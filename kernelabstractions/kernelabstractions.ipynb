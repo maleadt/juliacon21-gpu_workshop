{
 "cells": [
  {
   "cell_type": "code",
   "execution_count": 2,
   "metadata": {},
   "outputs": [
    {
     "data": {
      "text/plain": [
       ":CUDA"
      ]
     },
     "execution_count": 2,
     "metadata": {},
     "output_type": "execute_result"
    }
   ],
   "source": [
    "# Choose a backend\n",
    "# CUDA, AMD, or CPU\n",
    "\n",
    "# If you have no GPU you can still follow along\n",
    "# You might want to install a Kernel with threads enable\n",
    "# `IJulia.installkernel(\"Julia 1.6.2 Threads\", \"--threads=auto\")` and restart\n",
    "# this notebook with that kernel.\n",
    "\n",
    "const BACKEND = :CUDA"
   ]
  },
  {
   "cell_type": "code",
   "execution_count": 5,
   "metadata": {},
   "outputs": [
    {
     "name": "stderr",
     "output_type": "stream",
     "text": [
      "\u001b[32m\u001b[1m  Activating\u001b[22m\u001b[39m environment at `~/juliacon21-gpu_workshop/kernelabstractions/CUDAEnv/Project.toml`\n"
     ]
    }
   ],
   "source": [
    "using Pkg\n",
    "Pkg.activate(string(BACKEND, \"Env\"))\n",
    "\n",
    "# Install packages\n",
    "# pkg\"add KernelAbstractions, Adapt, OffsetArrays\"\n",
    "\n",
    "# if BACKEND == :CUDA\n",
    "#     pkg\"add CUDAKernels, CUDA\"\n",
    "# elseif BACKEND == :AMD\n",
    "#     pkg\"add ROCMKernels, AMDGPU\"\n",
    "# end"
   ]
  },
  {
   "cell_type": "code",
   "execution_count": 4,
   "metadata": {},
   "outputs": [],
   "source": [
    "using KernelAbstractions, Adapt, OffsetArrays"
   ]
  },
  {
   "cell_type": "code",
   "execution_count": 11,
   "metadata": {},
   "outputs": [
    {
     "data": {
      "text/plain": [
       "CUDADevice"
      ]
     },
     "execution_count": 11,
     "metadata": {},
     "output_type": "execute_result"
    }
   ],
   "source": [
    "if BACKEND == :CUDA\n",
    "    using CUDA, CUDAKernels\n",
    "    const ArrayT = CuArray\n",
    "    const Device = CUDADevice\n",
    "elseif BACKEND == :AMD\n",
    "    using AMDGPU, ROCMKernels\n",
    "    const ArrayT = CuArray\n",
    "    const Device = CUDADevice\n",
    "else BACKEND == :CPU\n",
    "    const ArrayT = Array\n",
    "    const Device = CPU\n",
    "end"
   ]
  },
  {
   "cell_type": "markdown",
   "metadata": {},
   "source": [
    "# Writing your first kernel in KernelAbstractions\n",
    "\n",
    "Let's implement the classic: $z = ax + y$"
   ]
  },
  {
   "cell_type": "code",
   "execution_count": 14,
   "metadata": {},
   "outputs": [
    {
     "data": {
      "text/plain": [
       "saxpy! (generic function with 5 methods)"
      ]
     },
     "execution_count": 14,
     "metadata": {},
     "output_type": "execute_result"
    }
   ],
   "source": [
    "@kernel function saxpy!(z, α, x, y)\n",
    "    I = @index(Global)\n",
    "    @inbounds z[I] = α * x[I] + y[I]\n",
    "end"
   ]
  },
  {
   "cell_type": "markdown",
   "metadata": {},
   "source": [
    "Inside `@kernel` you have access to a dialect that let's you implement GPU style\n",
    "kernels. One example is the `@index` macro that calulcates a valid index. You can\n",
    "ask for your current `Global`, `Group`, or `Local` index. \n",
    "\n",
    "They are also available in different styles, more about that later."
   ]
  },
  {
   "cell_type": "markdown",
   "metadata": {},
   "source": [
    "# How are indicies derived\n",
    "\n",
    "KernelAbstractions has two concepts used to derive indicies.\n",
    "\n",
    "1. `workgroupsize`\n",
    "2. `ndrange`\n",
    "\n",
    "The `workgroupsize` is a local block of threads that are co-executed. The `ndrange`\n",
    "specifies the global index space. This index space will be subdivided by the `workgroupsize`\n",
    "and each group will be executed in parallel."
   ]
  },
  {
   "cell_type": "code",
   "execution_count": 15,
   "metadata": {},
   "outputs": [
    {
     "data": {
      "text/plain": [
       "((8,), (16,), KernelAbstractions.NDIteration.NoDynamicCheck())"
      ]
     },
     "execution_count": 15,
     "metadata": {},
     "output_type": "execute_result"
    }
   ],
   "source": [
    "ndrange = (128,)\n",
    "workgroupsize = (16,)\n",
    "blocks, workgroupsize, dynamic = KernelAbstractions.NDIteration.partition(ndrange, workgroupsize)"
   ]
  },
  {
   "cell_type": "markdown",
   "metadata": {},
   "source": [
    "Both `ndrange` and `workgroupsize` can be of arbitrarily dimensionality"
   ]
  },
  {
   "cell_type": "code",
   "execution_count": 16,
   "metadata": {},
   "outputs": [
    {
     "data": {
      "text/plain": [
       "((8, 256, 512), (16, 1, 1), KernelAbstractions.NDIteration.NoDynamicCheck())"
      ]
     },
     "execution_count": 16,
     "metadata": {},
     "output_type": "execute_result"
    }
   ],
   "source": [
    "ndrange = (128,256,512)\n",
    "workgroupsize = (16,)\n",
    "blocks, workgroupsize, dynamic = KernelAbstractions.NDIteration.partition(ndrange, workgroupsize)"
   ]
  },
  {
   "cell_type": "markdown",
   "metadata": {},
   "source": [
    "# Launching Kernels\n",
    "\n",
    "Before we launch any kernel we first need to instantiate it for our backend."
   ]
  },
  {
   "cell_type": "code",
   "execution_count": 17,
   "metadata": {},
   "outputs": [
    {
     "data": {
      "text/plain": [
       "KernelAbstractions.Kernel{CUDADevice, KernelAbstractions.NDIteration.DynamicSize, KernelAbstractions.NDIteration.DynamicSize, typeof(gpu_saxpy!)}(gpu_saxpy!)"
      ]
     },
     "execution_count": 17,
     "metadata": {},
     "output_type": "execute_result"
    }
   ],
   "source": [
    "kernel = saxpy!(Device())"
   ]
  },
  {
   "cell_type": "markdown",
   "metadata": {},
   "source": [
    "Note that we now have a `Kernel` object with some information in the type domain.\n",
    "\n",
    "The first argument is the device used, the second and third contain about information\n",
    "about the launch configuration. Here both are `DynamicSize` meaning none was given.\n",
    "Lastly there is the type of the actual function going to be called."
   ]
  },
  {
   "cell_type": "markdown",
   "metadata": {},
   "source": [
    "## Static vs Dynamic launch configuration"
   ]
  },
  {
   "cell_type": "code",
   "execution_count": 18,
   "metadata": {},
   "outputs": [],
   "source": [
    "# Let's allocate some data\n",
    "\n",
    "x = adapt(ArrayT, rand(64, 32))\n",
    "y = adapt(ArrayT, rand(64, 32))\n",
    "z = similar(x)\n",
    "nothing"
   ]
  },
  {
   "cell_type": "code",
   "execution_count": 19,
   "metadata": {},
   "outputs": [
    {
     "ename": "LoadError",
     "evalue": "    Can not partition kernel!\n\n    You created a dynamically sized kernel, but forgot to provide runtime\n    parameters for the kernel. Either provide them statically if known\n    or dynamically.\n    NDRange(Static):  KernelAbstractions.NDIteration.DynamicSize\n    NDRange(Dynamic): nothing\n    Workgroupsize(Static):  KernelAbstractions.NDIteration.DynamicSize\n    Workgroupsize(Dynamic): nothing\n",
     "output_type": "error",
     "traceback": [
      "    Can not partition kernel!\n\n    You created a dynamically sized kernel, but forgot to provide runtime\n    parameters for the kernel. Either provide them statically if known\n    or dynamically.\n    NDRange(Static):  KernelAbstractions.NDIteration.DynamicSize\n    NDRange(Dynamic): nothing\n    Workgroupsize(Static):  KernelAbstractions.NDIteration.DynamicSize\n    Workgroupsize(Dynamic): nothing\n",
      "",
      "Stacktrace:",
      " [1] error(s::String)",
      "   @ Base ./error.jl:33",
      " [2] partition(kernel::KernelAbstractions.Kernel{CUDADevice, KernelAbstractions.NDIteration.DynamicSize, KernelAbstractions.NDIteration.DynamicSize, typeof(gpu_saxpy!)}, ndrange::Nothing, workgroupsize::Nothing)",
      "   @ KernelAbstractions ~/.julia/packages/KernelAbstractions/8W8KX/src/KernelAbstractions.jl:383",
      " [3] launch_config(kernel::KernelAbstractions.Kernel{CUDADevice, KernelAbstractions.NDIteration.DynamicSize, KernelAbstractions.NDIteration.DynamicSize, typeof(gpu_saxpy!)}, ndrange::Nothing, workgroupsize::Nothing)",
      "   @ CUDAKernels ~/.julia/packages/CUDAKernels/dI2Fl/src/CUDAKernels.jl:172",
      " [4] (::KernelAbstractions.Kernel{CUDADevice, KernelAbstractions.NDIteration.DynamicSize, KernelAbstractions.NDIteration.DynamicSize, typeof(gpu_saxpy!)})(::CuArray{Float64, 2}, ::Vararg{Any, N} where N; ndrange::Nothing, dependencies::CUDAKernels.CudaEvent, workgroupsize::Nothing, progress::Function)",
      "   @ CUDAKernels ~/.julia/packages/CUDAKernels/dI2Fl/src/CUDAKernels.jl:191",
      " [5] (::KernelAbstractions.Kernel{CUDADevice, KernelAbstractions.NDIteration.DynamicSize, KernelAbstractions.NDIteration.DynamicSize, typeof(gpu_saxpy!)})(::CuArray{Float64, 2}, ::Vararg{Any, N} where N)",
      "   @ CUDAKernels ~/.julia/packages/CUDAKernels/dI2Fl/src/CUDAKernels.jl:191",
      " [6] top-level scope",
      "   @ In[19]:1",
      " [7] eval",
      "   @ ./boot.jl:360 [inlined]",
      " [8] include_string(mapexpr::typeof(REPL.softscope), mod::Module, code::String, filename::String)",
      "   @ Base ./loading.jl:1116"
     ]
    }
   ],
   "source": [
    "kernel(z, 0.01, x, y)"
   ]
  },
  {
   "cell_type": "code",
   "execution_count": null,
   "metadata": {},
   "outputs": [
    {
     "data": {
      "text/plain": [
       "CUDAKernels.CudaEvent(CuEvent(Ptr{Nothing} @0x0000000006b918c0, CuContext(0x0000000004fbff40, instance cc1d00557c414dc1)))"
      ]
     },
     "execution_count": null,
     "metadata": {},
     "output_type": "execute_result"
    }
   ],
   "source": [
    "kernel(z, 0.01, x, y, ndrange=size(z), workgroupsize=32)"
   ]
  },
  {
   "cell_type": "code",
   "execution_count": 20,
   "metadata": {},
   "outputs": [
    {
     "data": {
      "text/plain": [
       "CUDAKernels.CudaEvent(CuEvent(Ptr{Nothing} @0x00000000089ffa20, CuContext(0x0000000005100ac0, instance 6afe723c4151a0c0)))"
      ]
     },
     "execution_count": 20,
     "metadata": {},
     "output_type": "execute_result"
    }
   ],
   "source": [
    "# I can leave the workgroupsize up to the backend.\n",
    "\n",
    "kernel(z, 0.01, x, y, ndrange=size(z))"
   ]
  },
  {
   "cell_type": "markdown",
   "metadata": {},
   "source": [
    "If I wanted I could have instantiated the kernel with static size information."
   ]
  },
  {
   "cell_type": "code",
   "execution_count": 21,
   "metadata": {},
   "outputs": [
    {
     "data": {
      "text/plain": [
       "KernelAbstractions.Kernel{CUDADevice, KernelAbstractions.NDIteration.StaticSize{(16,)}, KernelAbstractions.NDIteration.DynamicSize, typeof(gpu_saxpy!)}(gpu_saxpy!)"
      ]
     },
     "execution_count": 21,
     "metadata": {},
     "output_type": "execute_result"
    }
   ],
   "source": [
    "kernel = saxpy!(Device(), (16,))"
   ]
  },
  {
   "cell_type": "code",
   "execution_count": 22,
   "metadata": {},
   "outputs": [],
   "source": [
    "iterspace, dynamic = KernelAbstractions.partition(kernel, size(x), nothing)\n",
    "nothing"
   ]
  },
  {
   "cell_type": "code",
   "execution_count": 23,
   "metadata": {},
   "outputs": [
    {
     "data": {
      "text/plain": [
       "4×32 CartesianIndices{2, Tuple{Base.OneTo{Int64}, Base.OneTo{Int64}}}:\n",
       " CartesianIndex(1, 1)  CartesianIndex(1, 2)  …  CartesianIndex(1, 32)\n",
       " CartesianIndex(2, 1)  CartesianIndex(2, 2)     CartesianIndex(2, 32)\n",
       " CartesianIndex(3, 1)  CartesianIndex(3, 2)     CartesianIndex(3, 32)\n",
       " CartesianIndex(4, 1)  CartesianIndex(4, 2)     CartesianIndex(4, 32)"
      ]
     },
     "execution_count": 23,
     "metadata": {},
     "output_type": "execute_result"
    }
   ],
   "source": [
    "KernelAbstractions.NDIteration.blocks(iterspace)"
   ]
  },
  {
   "cell_type": "code",
   "execution_count": 24,
   "metadata": {},
   "outputs": [
    {
     "data": {
      "text/plain": [
       "16×1 CartesianIndices{2, Tuple{Base.OneTo{Int64}, Base.OneTo{Int64}}}:\n",
       " CartesianIndex(1, 1)\n",
       " CartesianIndex(2, 1)\n",
       " CartesianIndex(3, 1)\n",
       " CartesianIndex(4, 1)\n",
       " CartesianIndex(5, 1)\n",
       " CartesianIndex(6, 1)\n",
       " CartesianIndex(7, 1)\n",
       " CartesianIndex(8, 1)\n",
       " CartesianIndex(9, 1)\n",
       " CartesianIndex(10, 1)\n",
       " CartesianIndex(11, 1)\n",
       " CartesianIndex(12, 1)\n",
       " CartesianIndex(13, 1)\n",
       " CartesianIndex(14, 1)\n",
       " CartesianIndex(15, 1)\n",
       " CartesianIndex(16, 1)"
      ]
     },
     "execution_count": 24,
     "metadata": {},
     "output_type": "execute_result"
    }
   ],
   "source": [
    "KernelAbstractions.NDIteration.workitems(iterspace)"
   ]
  },
  {
   "cell_type": "code",
   "execution_count": 48,
   "metadata": {},
   "outputs": [
    {
     "data": {
      "text/plain": [
       "KernelAbstractions.Kernel{CUDADevice, KernelAbstractions.NDIteration.StaticSize{(16,)}, KernelAbstractions.NDIteration.StaticSize{(1024, 32)}, typeof(gpu_saxpy!)}(gpu_saxpy!)"
      ]
     },
     "execution_count": 48,
     "metadata": {},
     "output_type": "execute_result"
    }
   ],
   "source": [
    "kernel = saxpy!(Device(), (16,), (1024, 32))"
   ]
  },
  {
   "cell_type": "code",
   "execution_count": 49,
   "metadata": {},
   "outputs": [
    {
     "data": {
      "text/plain": [
       "CUDAKernels.CudaEvent(CuEvent(Ptr{Nothing} @0x000000001d79e990, CuContext(0x0000000004fbff40, instance cc1d00557c414dc1)))"
      ]
     },
     "execution_count": 49,
     "metadata": {},
     "output_type": "execute_result"
    }
   ],
   "source": [
    "# Launching a mismatched kernel should error\n",
    "# Fixme(vchuravy)\n",
    "\n",
    "kernel(z, 0.01, x, y, ndrange=size(z))"
   ]
  },
  {
   "cell_type": "markdown",
   "metadata": {},
   "source": [
    "## Dependencies\n",
    "\n",
    "Note how the previous examples all returned an `<:Event`. KernelAbstractions launches\n",
    "all kernels asynchronously and it is up to the programmer (YOU!) to ensure that kernels\n",
    "are properly synchronized with the host, other kernels, and GPUArrays."
   ]
  },
  {
   "cell_type": "code",
   "execution_count": 26,
   "metadata": {},
   "outputs": [
    {
     "data": {
      "text/plain": [
       "KernelAbstractions.Kernel{CUDADevice, KernelAbstractions.NDIteration.DynamicSize, KernelAbstractions.NDIteration.DynamicSize, typeof(gpu_saxpy!)}(gpu_saxpy!)"
      ]
     },
     "execution_count": 26,
     "metadata": {},
     "output_type": "execute_result"
    }
   ],
   "source": [
    "kernel = saxpy!(Device())"
   ]
  },
  {
   "cell_type": "code",
   "execution_count": 30,
   "metadata": {},
   "outputs": [],
   "source": [
    "# 1. Allocate data\n",
    "x = adapt(ArrayT, rand(64, 32))\n",
    "y = adapt(ArrayT, rand(64, 32))\n",
    "z = similar(x)\n",
    "\n",
    "# Note: CUDA.jl uses asynchronous allocations, and we are moving data from host\n",
    "#       to the device.\n",
    "\n",
    "allocation_event = Event(Device())\n",
    "\n",
    "# 2. Kernel event, kernel needs to synchronize against allocation and data\n",
    "#    movement from above.\n",
    "\n",
    "kernel_event = kernel(z, 0.01, x, y;\n",
    "                      ndrange=size(z), dependencies=allocation_event)\n",
    "\n",
    "# 3.\n",
    "# Scenario A: reading `z` from the host\n",
    "wait(kernel_event)\n",
    "adapt(Array, z)\n",
    "\n",
    "# Scenario B: Using `z` in the next kernel\n",
    "kernel_event = kernel(x, 0.01, z, y;\n",
    "               ndrange=size(z), dependencies=kernel_event)\n",
    "\n",
    "# Note: We need to wait on `x` now\n",
    "\n",
    "# Scenario C: Using `z` as part of GPUArrays\n",
    "wait(Device(), kernel_event)\n",
    "zz = z.^2 # Broadcast expression is dependent on `z`\n",
    "nothing"
   ]
  },
  {
   "cell_type": "markdown",
   "metadata": {},
   "source": [
    "### Dependencies and CUDA task based programming\n",
    "\n",
    "CUDA proper organises concurrent execution of kernels on so called `Streams`.\n",
    "Launching a kernel on a stream means that it will execute serially with respect\n",
    "to other kernels on that stream, and concurrently with kernels launched on different\n",
    "streams.\n",
    "\n",
    "KernelAbstractions dependency system was partly motivated by exposing a consistent\n",
    "concurrent kernel execution story that would work across multiple GPU and CPU platforms.\n",
    "\n",
    "CUDA.jl 3.0 now uses asynchronous allocations and task based concurrency, which partly\n",
    "obviates the need for KernelAbstractions dependency system. Each Julia task now \n",
    "has a task-local stream that is used to both launch user kernels as well as library code.\n",
    "\n",
    "From a KernelAbstraction perspective the dependency management has not changes,\n",
    "since KernelAbstractions kernels will launch concurrently to the task-local stream."
   ]
  },
  {
   "cell_type": "markdown",
   "metadata": {},
   "source": [
    "# Using the memory hierarchy on a GPU\n",
    "\n",
    "One of the main motivation behind KernelAbstractions is making the memory hierarchy\n",
    "available, while still being able to execute the code on the CPU. The primary accessors\n",
    "are `@localmem` to define a memory region local to a group of threads (called shared memory in CUDA),\n",
    "and `@synchronize` to synchronize memory accesses on that memory.\n",
    "\n",
    "Let's write a diffusion kernel:"
   ]
  },
  {
   "cell_type": "code",
   "execution_count": 12,
   "metadata": {},
   "outputs": [
    {
     "data": {
      "text/plain": [
       "diffusion! (generic function with 5 methods)"
      ]
     },
     "execution_count": 12,
     "metadata": {},
     "output_type": "execute_result"
    }
   ],
   "source": [
    "@kernel function diffusion!(data, a, dt, dx, dy)\n",
    "    i, j = @index(Global, NTuple)\n",
    "\n",
    "    @inbounds begin\n",
    "        dij   = data[i,j]\n",
    "        dim1j = data[i-1, j]\n",
    "\t    dijm1 = data[i, j-1]\n",
    "\t    dip1j = data[i+1, j]\n",
    "        dijp1 = data[i, j+1]\n",
    "\n",
    "        dij += a * dt * (\n",
    "\t\t    (dim1j - 2 * dij + dip1j)/dx^2 +\n",
    "\t\t    (dijm1 - 2 * dij + dijp1)/dy^2)\n",
    "        \n",
    "        data[i, j] = dij\n",
    "    end\n",
    "end"
   ]
  },
  {
   "cell_type": "code",
   "execution_count": 13,
   "metadata": {},
   "outputs": [
    {
     "data": {
      "text/plain": [
       "0.024999999999999998"
      ]
     },
     "execution_count": 13,
     "metadata": {},
     "output_type": "execute_result"
    }
   ],
   "source": [
    "N  = 64\n",
    "dx = 0.01 # x-grid spacing\n",
    "dy = 0.01 # y-grid spacing\n",
    "a  = 0.001\n",
    "dt = dx^2 * dy^2 / (2.0 * a * (dx^2 + dy^2)) # Largest stable time step"
   ]
  },
  {
   "cell_type": "code",
   "execution_count": 17,
   "metadata": {},
   "outputs": [],
   "source": [
    "domain = OffsetArray(zeros(N+2, N+2), 0:(N+1), 0:(N+1))\n",
    "domain[16:32, 16:32] .= 5\n",
    "domain = adapt(ArrayT, domain)\n",
    "nothing"
   ]
  },
  {
   "cell_type": "code",
   "execution_count": 15,
   "metadata": {},
   "outputs": [
    {
     "data": {
      "text/plain": [
       "KernelAbstractions.Kernel{CUDADevice, KernelAbstractions.NDIteration.DynamicSize, KernelAbstractions.NDIteration.DynamicSize, typeof(gpu_diffusion!)}(gpu_diffusion!)"
      ]
     },
     "execution_count": 15,
     "metadata": {},
     "output_type": "execute_result"
    }
   ],
   "source": [
    "diffusion_kernel = diffusion!(Device())"
   ]
  },
  {
   "cell_type": "code",
   "execution_count": 18,
   "metadata": {},
   "outputs": [],
   "source": [
    "wait(diffusion_kernel(domain, a, dt, dx, dy;\n",
    "                 ndrange=(N, N)))"
   ]
  },
  {
   "cell_type": "markdown",
   "metadata": {},
   "source": [
    "#### What is wrong with this kernel?\n",
    "\n",
    "1. Think about data races\n",
    "2. Consider the data access pattern "
   ]
  },
  {
   "cell_type": "markdown",
   "metadata": {},
   "source": [
    "#### Task\n",
    "\n",
    "Implement a mirror boundary condition"
   ]
  },
  {
   "cell_type": "code",
   "execution_count": 19,
   "metadata": {},
   "outputs": [
    {
     "data": {
      "text/plain": [
       "diffusion_lmem! (generic function with 5 methods)"
      ]
     },
     "execution_count": 19,
     "metadata": {},
     "output_type": "execute_result"
    }
   ],
   "source": [
    "@kernel function diffusion_lmem!(out, @Const(data), a, dt, dx, dy)\n",
    "    i, j   = @index(Global, NTuple)\n",
    "    li, lj = @index(Local, NTuple)\n",
    "    lmem = @localmem eltype(data) (@groupsize()[1] + 2, @groupsize()[2] + 2)\n",
    "    @uniform ldata = OffsetArray(lmem, 0:(@groupsize()[1]+1), 0:(@groupsize()[2]+1))\n",
    "\n",
    "    # Load data from global to local buffer\n",
    "    @inbounds begin\n",
    "        ldata[li, lj] = data[i, j]\n",
    "        if i == 1\n",
    "            ldata[li-1, lj] = data[i-1, j]\n",
    "        end\n",
    "        if i == @groupsize()[1]\n",
    "            ldata[li+1, lj] = data[i+1, j]\n",
    "        end\n",
    "        if j == 1\n",
    "            ldata[li, lj-1] = data[i, j-1]\n",
    "        end\n",
    "        if j == @groupsize()[2]\n",
    "            ldata[li, lj+1] = data[i, j+1]\n",
    "        end\n",
    "    end\n",
    "    @synchronize()\n",
    "\n",
    "    @inbounds begin\n",
    "        dij   = ldata[li,   lj]\n",
    "        dim1j = ldata[li-1, lj]\n",
    "\t    dijm1 = ldata[li, lj-1]\n",
    "\t    dip1j = ldata[li+1, lj]\n",
    "        dijp1 = ldata[li, lj+1]\n",
    "\n",
    "        dij += a * dt * (\n",
    "\t\t    (dim1j - 2 * dij + dip1j)/dx^2 +\n",
    "\t\t    (dijm1 - 2 * dij + dijp1)/dy^2)\n",
    "        \n",
    "        out[i, j] = dij\n",
    "    end\n",
    "end"
   ]
  },
  {
   "cell_type": "markdown",
   "metadata": {},
   "source": [
    "#### What did we change?\n",
    "\n",
    "1. Split output from input so that we don't have across workgroup races\n",
    "2. Loaded data into a local memory buffer\n",
    "3. Marked `data` with `@Const`\n",
    "\n",
    "##### What is `@uniform`\n",
    "\n",
    "Necessary annotation for CPU execution. It means that the variable is shared\n",
    "across the workgroup. Similarily `@private` introduces a variable that is private\n",
    "per thread of the workgroup. You will need to use it if you need to hold on to data across an `@synchronize`.\n",
    "\n",
    "##### Index kinds\n",
    "In this example we used the index kind `NTuple`. Other options are `Linear`, or\n",
    "`Cartesian`. A `Linear` index is simply an integer and a `Cartesian` is a\n",
    "n-dimensional index object. Only use `NTuple` if you need to statically reason\n",
    "about the dimensionality of your workgroup."
   ]
  },
  {
   "cell_type": "code",
   "execution_count": 21,
   "metadata": {},
   "outputs": [],
   "source": [
    "out = similar(domain)\n",
    "nothing"
   ]
  },
  {
   "cell_type": "code",
   "execution_count": 23,
   "metadata": {},
   "outputs": [
    {
     "data": {
      "text/plain": [
       "KernelAbstractions.Kernel{CUDADevice, KernelAbstractions.NDIteration.StaticSize{(16, 16)}, KernelAbstractions.NDIteration.DynamicSize, typeof(gpu_diffusion_lmem!)}(gpu_diffusion_lmem!)"
      ]
     },
     "execution_count": 23,
     "metadata": {},
     "output_type": "execute_result"
    }
   ],
   "source": [
    "# Using a static workgroupsize here is important so that the `@groupsize`\n",
    "# can use that information\n",
    "diffusion_lmem_kernel = diffusion_lmem!(Device(), (16, 16))"
   ]
  },
  {
   "cell_type": "code",
   "execution_count": 24,
   "metadata": {},
   "outputs": [],
   "source": [
    "wait(diffusion_lmem_kernel(out, domain, a, dt, dx, dy;\n",
    "                           ndrange=(N, N)))"
   ]
  },
  {
   "cell_type": "markdown",
   "metadata": {},
   "source": [
    "### Other topics:\n",
    "- Reflection\n",
    "- @print\n"
   ]
  },
  {
   "cell_type": "code",
   "execution_count": 30,
   "metadata": {},
   "outputs": [
    {
     "data": {
      "text/plain": [
       "kernel_print (generic function with 5 methods)"
      ]
     },
     "execution_count": 30,
     "metadata": {},
     "output_type": "execute_result"
    }
   ],
   "source": [
    "@kernel function kernel_print()\n",
    "    I = @index(Global)\n",
    "    @print(\"Hello from thread \", I, \"!\\n\")\n",
    "end"
   ]
  },
  {
   "cell_type": "code",
   "execution_count": 31,
   "metadata": {},
   "outputs": [
    {
     "name": "stdout",
     "output_type": "stream",
     "text": [
      "Hello from thread 1!\n",
      "Hello from thread 2!\n",
      "Hello from thread 3!\n",
      "Hello from thread 4!\n"
     ]
    }
   ],
   "source": [
    "wait(kernel_print(Device())(ndrange=(4,)))"
   ]
  },
  {
   "cell_type": "code",
   "execution_count": 26,
   "metadata": {},
   "outputs": [
    {
     "data": {
      "text/plain": [
       "quote\n",
       "    function cpu_saxpy!(__ctx__, z, α, x, y; )\n",
       "        let\n",
       "            $(Expr(:aliasscope))\n",
       "            begin\n",
       "                var\"##N#303\" = length((KernelAbstractions.__workitems_iterspace)(__ctx__))\n",
       "                begin\n",
       "                    #= /home/vchuravy/.julia/packages/KernelAbstractions/8W8KX/src/macros.jl:263 =#\n",
       "                    for var\"##I#302\" = (KernelAbstractions.__workitems_iterspace)(__ctx__)\n",
       "                        #= /home/vchuravy/.julia/packages/KernelAbstractions/8W8KX/src/macros.jl:264 =#\n",
       "                        (KernelAbstractions.__validindex)(__ctx__, var\"##I#302\") || continue\n",
       "                        #= /home/vchuravy/.julia/packages/KernelAbstractions/8W8KX/src/macros.jl:265 =#\n",
       "                        I = KernelAbstractions.__index_Global_Linear(__ctx__, var\"##I#302\")\n",
       "                        #= /home/vchuravy/.julia/packages/KernelAbstractions/8W8KX/src/macros.jl:266 =#\n",
       "                        begin\n",
       "                            $(Expr(:inbounds, true))\n",
       "                            local var\"#583#val\" = (z[I] = α * x[I] + y[I])\n",
       "                            $(Expr(:inbounds, :pop))\n",
       "                            var\"#583#val\"\n",
       "                        end\n",
       "                    end\n",
       "                end\n",
       "            end\n",
       "            $(Expr(:popaliasscope))\n",
       "            return nothing\n",
       "        end\n",
       "    end\n",
       "    function gpu_saxpy!(__ctx__, z, α, x, y; )\n",
       "        let\n",
       "            #= /home/vchuravy/.julia/packages/KernelAbstractions/8W8KX/src/macros.jl:79 =#\n",
       "            if (KernelAbstractions.__validindex)(__ctx__)\n",
       "                #= /home/vchuravy/.julia/packages/KernelAbstractions/8W8KX/src/macros.jl:80 =#\n",
       "                begin\n",
       "                    #= In[26]:1 =#\n",
       "                    #= In[26]:2 =#\n",
       "                    I = KernelAbstractions.__index_Global_Linear(__ctx__)\n",
       "                    #= In[26]:3 =#\n",
       "                    begin\n",
       "                        $(Expr(:inbounds, true))\n",
       "                        local var\"#584#val\" = (z[I] = α * x[I] + y[I])\n",
       "                        $(Expr(:inbounds, :pop))\n",
       "                        var\"#584#val\"\n",
       "                    end\n",
       "                end\n",
       "            end\n",
       "            #= /home/vchuravy/.julia/packages/KernelAbstractions/8W8KX/src/macros.jl:82 =#\n",
       "            return nothing\n",
       "        end\n",
       "    end\n",
       "    begin\n",
       "        #= /home/vchuravy/.julia/packages/KernelAbstractions/8W8KX/src/macros.jl:52 =#\n",
       "        if !($(Expr(:isdefined, :saxpy!)))\n",
       "            #= /home/vchuravy/.julia/packages/KernelAbstractions/8W8KX/src/macros.jl:53 =#\n",
       "            begin\n",
       "                $(Expr(:meta, :doc))\n",
       "                saxpy!(dev::KernelAbstractions.Device) = begin\n",
       "                        #= /home/vchuravy/.julia/packages/KernelAbstractions/8W8KX/src/macros.jl:53 =#\n",
       "                        saxpy!(dev, (KernelAbstractions.NDIteration.DynamicSize)(), (KernelAbstractions.NDIteration.DynamicSize)())\n",
       "                    end\n",
       "            end\n",
       "            #= /home/vchuravy/.julia/packages/KernelAbstractions/8W8KX/src/macros.jl:54 =#\n",
       "            saxpy!(dev::KernelAbstractions.Device, size) = begin\n",
       "                    #= /home/vchuravy/.julia/packages/KernelAbstractions/8W8KX/src/macros.jl:54 =#\n",
       "                    saxpy!(dev, (KernelAbstractions.NDIteration.StaticSize)(size), (KernelAbstractions.NDIteration.DynamicSize)())\n",
       "                end\n",
       "            #= /home/vchuravy/.julia/packages/KernelAbstractions/8W8KX/src/macros.jl:55 =#\n",
       "            saxpy!(dev::KernelAbstractions.Device, size, range) = begin\n",
       "                    #= /home/vchuravy/.julia/packages/KernelAbstractions/8W8KX/src/macros.jl:55 =#\n",
       "                    saxpy!(dev, (KernelAbstractions.NDIteration.StaticSize)(size), (KernelAbstractions.NDIteration.StaticSize)(range))\n",
       "                end\n",
       "            #= /home/vchuravy/.julia/packages/KernelAbstractions/8W8KX/src/macros.jl:56 =#\n",
       "            function saxpy!(::Device, ::S, ::NDRange) where {Device <: CPU, S <: KernelAbstractions.NDIteration._Size, NDRange <: KernelAbstractions.NDIteration._Size}\n",
       "                #= /home/vchuravy/.julia/packages/KernelAbstractions/8W8KX/src/macros.jl:56 =#\n",
       "                #= /home/vchuravy/.julia/packages/KernelAbstractions/8W8KX/src/macros.jl:57 =#\n",
       "                return (KernelAbstractions.Kernel){Device, S, NDRange, typeof(cpu_saxpy!)}(cpu_saxpy!)\n",
       "            end\n",
       "            #= /home/vchuravy/.julia/packages/KernelAbstractions/8W8KX/src/macros.jl:59 =#\n",
       "            function saxpy!(::Device, ::S, ::NDRange) where {Device <: GPU, S <: KernelAbstractions.NDIteration._Size, NDRange <: KernelAbstractions.NDIteration._Size}\n",
       "                #= /home/vchuravy/.julia/packages/KernelAbstractions/8W8KX/src/macros.jl:59 =#\n",
       "                #= /home/vchuravy/.julia/packages/KernelAbstractions/8W8KX/src/macros.jl:60 =#\n",
       "                return (KernelAbstractions.Kernel){Device, S, NDRange, typeof(gpu_saxpy!)}(gpu_saxpy!)\n",
       "            end\n",
       "        end\n",
       "    end\n",
       "end"
      ]
     },
     "execution_count": 26,
     "metadata": {},
     "output_type": "execute_result"
    }
   ],
   "source": [
    "@macroexpand @kernel function saxpy!(z, α, x, y)\n",
    "    I = @index(Global)\n",
    "    @inbounds z[I] = α * x[I] + y[I]\n",
    "end"
   ]
  },
  {
   "cell_type": "code",
   "execution_count": 28,
   "metadata": {},
   "outputs": [
    {
     "data": {
      "text/plain": [
       "CodeInfo(\n",
       "\u001b[90m1 ───\u001b[39m %1   = Core.getfield(##overdub_arguments#258, 2)\u001b[36m::KernelAbstractions.CompilerMetadata{KernelAbstractions.NDIteration.DynamicSize, KernelAbstractions.NDIteration.DynamicCheck, Nothing, CartesianIndices{2, Tuple{Base.OneTo{Int64}, Base.OneTo{Int64}}}, KernelAbstractions.NDIteration.NDRange{2, KernelAbstractions.NDIteration.DynamicSize, KernelAbstractions.NDIteration.StaticSize{(16, 16)}, CartesianIndices{2, Tuple{Base.OneTo{Int64}, Base.OneTo{Int64}}}, Nothing}}\u001b[39m\n",
       "\u001b[90m│    \u001b[39m %2   = Core.getfield(##overdub_arguments#258, 4)\u001b[36m::OffsetMatrix{Float64, CuDeviceMatrix{Float64, 1}}\u001b[39m\n",
       "\u001b[90m│    \u001b[39m %3   = Core.getfield(##overdub_arguments#258, 5)\u001b[36m::Float64\u001b[39m\n",
       "\u001b[90m│    \u001b[39m %4   = Core.getfield(##overdub_arguments#258, 6)\u001b[36m::Float64\u001b[39m\n",
       "\u001b[90m│    \u001b[39m %5   = Core.getfield(##overdub_arguments#258, 7)\u001b[36m::Float64\u001b[39m\n",
       "\u001b[90m│    \u001b[39m %6   = Core.getfield(##overdub_arguments#258, 8)\u001b[36m::Float64\u001b[39m\n",
       "\u001b[90m│    \u001b[39m %7   = Base.getfield(%1, :iterspace)\u001b[36m::KernelAbstractions.NDIteration.NDRange{2, KernelAbstractions.NDIteration.DynamicSize, KernelAbstractions.NDIteration.StaticSize{(16, 16)}, CartesianIndices{2, Tuple{Base.OneTo{Int64}, Base.OneTo{Int64}}}, Nothing}\u001b[39m\n",
       "\u001b[90m│    \u001b[39m %8   = Base.llvmcall\u001b[36m::Core.IntrinsicFunction\u001b[39m\n",
       "\u001b[90m│    \u001b[39m %9   = Core.tuple(\"; ModuleID = 'llvmcall'\\nsource_filename = \\\"llvmcall\\\"\\n\\n; Function Attrs: alwaysinline\\ndefine i32 @entry() #0 {\\nentry:\\n  %0 = call i32 @llvm.nvvm.read.ptx.sreg.ctaid.x(), !range !0\\n  ret i32 %0\\n}\\n\\n; Function Attrs: nounwind readnone\\ndeclare i32 @llvm.nvvm.read.ptx.sreg.ctaid.x() #1\\n\\nattributes #0 = { alwaysinline }\\nattributes #1 = { nounwind readnone }\\n\\n!0 = !{i32 0, i32 2147483646}\\n\", \"entry\")\u001b[36m::Tuple{String, String}\u001b[39m\n",
       "\u001b[90m│    \u001b[39m %10  = (%8)(%9, UInt32, Tuple{})\u001b[36m::UInt32\u001b[39m\n",
       "\u001b[90m│    \u001b[39m %11  = Core.zext_int(Core.Int64, %10)\u001b[36m::Int64\u001b[39m\n",
       "\u001b[90m│    \u001b[39m %12  = Base.add_int(%11, 1)\u001b[36m::Int64\u001b[39m\n",
       "\u001b[90m│    \u001b[39m %13  = Base.llvmcall\u001b[36m::Core.IntrinsicFunction\u001b[39m\n",
       "\u001b[90m│    \u001b[39m %14  = Core.tuple(\"; ModuleID = 'llvmcall'\\nsource_filename = \\\"llvmcall\\\"\\n\\n; Function Attrs: alwaysinline\\ndefine i32 @entry() #0 {\\nentry:\\n  %0 = call i32 @llvm.nvvm.read.ptx.sreg.ctaid.y(), !range !0\\n  ret i32 %0\\n}\\n\\n; Function Attrs: nounwind readnone\\ndeclare i32 @llvm.nvvm.read.ptx.sreg.ctaid.y() #1\\n\\nattributes #0 = { alwaysinline }\\nattributes #1 = { nounwind readnone }\\n\\n!0 = !{i32 0, i32 65534}\\n\", \"entry\")\u001b[36m::Tuple{String, String}\u001b[39m\n",
       "\u001b[90m│    \u001b[39m        (%13)(%14, UInt32, Tuple{})\u001b[90m::UInt32\u001b[39m\n",
       "\u001b[90m│    \u001b[39m %16  = Base.llvmcall\u001b[36m::Core.IntrinsicFunction\u001b[39m\n",
       "\u001b[90m│    \u001b[39m %17  = Core.tuple(\"; ModuleID = 'llvmcall'\\nsource_filename = \\\"llvmcall\\\"\\n\\n; Function Attrs: alwaysinline\\ndefine i32 @entry() #0 {\\nentry:\\n  %0 = call i32 @llvm.nvvm.read.ptx.sreg.ctaid.z(), !range !0\\n  ret i32 %0\\n}\\n\\n; Function Attrs: nounwind readnone\\ndeclare i32 @llvm.nvvm.read.ptx.sreg.ctaid.z() #1\\n\\nattributes #0 = { alwaysinline }\\nattributes #1 = { nounwind readnone }\\n\\n!0 = !{i32 0, i32 65534}\\n\", \"entry\")\u001b[36m::Tuple{String, String}\u001b[39m\n",
       "\u001b[90m│    \u001b[39m        (%16)(%17, UInt32, Tuple{})\u001b[90m::UInt32\u001b[39m\n",
       "\u001b[90m│    \u001b[39m %19  = Base.llvmcall\u001b[36m::Core.IntrinsicFunction\u001b[39m\n",
       "\u001b[90m│    \u001b[39m %20  = Core.tuple(\"; ModuleID = 'llvmcall'\\nsource_filename = \\\"llvmcall\\\"\\n\\n; Function Attrs: alwaysinline\\ndefine i32 @entry() #0 {\\nentry:\\n  %0 = call i32 @llvm.nvvm.read.ptx.sreg.tid.x(), !range !0\\n  ret i32 %0\\n}\\n\\n; Function Attrs: nounwind readnone\\ndeclare i32 @llvm.nvvm.read.ptx.sreg.tid.x() #1\\n\\nattributes #0 = { alwaysinline }\\nattributes #1 = { nounwind readnone }\\n\\n!0 = !{i32 0, i32 1023}\\n\", \"entry\")\u001b[36m::Tuple{String, String}\u001b[39m\n",
       "\u001b[90m│    \u001b[39m %21  = (%19)(%20, UInt32, Tuple{})\u001b[36m::UInt32\u001b[39m\n",
       "\u001b[90m│    \u001b[39m %22  = Core.zext_int(Core.Int64, %21)\u001b[36m::Int64\u001b[39m\n",
       "\u001b[90m│    \u001b[39m %23  = Base.add_int(%22, 1)\u001b[36m::Int64\u001b[39m\n",
       "\u001b[90m│    \u001b[39m %24  = Base.llvmcall\u001b[36m::Core.IntrinsicFunction\u001b[39m\n",
       "\u001b[90m│    \u001b[39m %25  = Core.tuple(\"; ModuleID = 'llvmcall'\\nsource_filename = \\\"llvmcall\\\"\\n\\n; Function Attrs: alwaysinline\\ndefine i32 @entry() #0 {\\nentry:\\n  %0 = call i32 @llvm.nvvm.read.ptx.sreg.tid.y(), !range !0\\n  ret i32 %0\\n}\\n\\n; Function Attrs: nounwind readnone\\ndeclare i32 @llvm.nvvm.read.ptx.sreg.tid.y() #1\\n\\nattributes #0 = { alwaysinline }\\nattributes #1 = { nounwind readnone }\\n\\n!0 = !{i32 0, i32 1023}\\n\", \"entry\")\u001b[36m::Tuple{String, String}\u001b[39m\n",
       "\u001b[90m│    \u001b[39m        (%24)(%25, UInt32, Tuple{})\u001b[90m::UInt32\u001b[39m\n",
       "\u001b[90m│    \u001b[39m %27  = Base.llvmcall\u001b[36m::Core.IntrinsicFunction\u001b[39m\n",
       "\u001b[90m│    \u001b[39m %28  = Core.tuple(\"; ModuleID = 'llvmcall'\\nsource_filename = \\\"llvmcall\\\"\\n\\n; Function Attrs: alwaysinline\\ndefine i32 @entry() #0 {\\nentry:\\n  %0 = call i32 @llvm.nvvm.read.ptx.sreg.tid.z(), !range !0\\n  ret i32 %0\\n}\\n\\n; Function Attrs: nounwind readnone\\ndeclare i32 @llvm.nvvm.read.ptx.sreg.tid.z() #1\\n\\nattributes #0 = { alwaysinline }\\nattributes #1 = { nounwind readnone }\\n\\n!0 = !{i32 0, i32 63}\\n\", \"entry\")\u001b[36m::Tuple{String, String}\u001b[39m\n",
       "\u001b[90m│    \u001b[39m        (%27)(%28, UInt32, Tuple{})\u001b[90m::UInt32\u001b[39m\n",
       "\u001b[90m│    \u001b[39m %30  = Base.getfield(%7, :blocks)\u001b[36m::CartesianIndices{2, Tuple{Base.OneTo{Int64}, Base.OneTo{Int64}}}\u001b[39m\n",
       "\u001b[90m└────\u001b[39m        goto #6 if not false\n",
       "\u001b[90m2 ───\u001b[39m %32  = Core.tuple(%12)\u001b[36m::Tuple{Int64}\u001b[39m\n",
       "\u001b[90m│    \u001b[39m %33  = Base.getfield(%30, :indices)\u001b[36m::Tuple{Base.OneTo{Int64}, Base.OneTo{Int64}}\u001b[39m\n",
       "\u001b[90m│    \u001b[39m %34  = Base.getfield(%33, 1, true)\u001b[36m::Base.OneTo{Int64}\u001b[39m\n",
       "\u001b[90m│    \u001b[39m %35  = Base.getfield(%34, :stop)\u001b[36m::Int64\u001b[39m\n",
       "\u001b[90m│    \u001b[39m %36  = Base.getfield(%33, 2, true)\u001b[36m::Base.OneTo{Int64}\u001b[39m\n",
       "\u001b[90m│    \u001b[39m %37  = Base.getfield(%36, :stop)\u001b[36m::Int64\u001b[39m\n",
       "\u001b[90m│    \u001b[39m %38  = Base.mul_int(%35, %37)\u001b[36m::Int64\u001b[39m\n",
       "\u001b[90m│    \u001b[39m %39  = Base.slt_int(%38, 0)\u001b[36m::Bool\u001b[39m\n",
       "\u001b[90m│    \u001b[39m %40  = Base.ifelse(%39, 0, %38)\u001b[36m::Int64\u001b[39m\n",
       "\u001b[90m│    \u001b[39m %41  = Base.sle_int(1, %12)\u001b[36m::Bool\u001b[39m\n",
       "\u001b[90m│    \u001b[39m %42  = Base.sle_int(%12, %40)\u001b[36m::Bool\u001b[39m\n",
       "\u001b[90m│    \u001b[39m %43  = Base.and_int(%41, %42)\u001b[36m::Bool\u001b[39m\n",
       "\u001b[90m└────\u001b[39m        goto #4 if not %43\n",
       "\u001b[90m3 ───\u001b[39m        goto #5\n",
       "\u001b[90m4 ───\u001b[39m        invoke Base.throw_boundserror(%30::CartesianIndices{2, Tuple{Base.OneTo{Int64}, Base.OneTo{Int64}}}, %32::Tuple{Int64})\u001b[90m::Union{}\u001b[39m\n",
       "\u001b[90m└────\u001b[39m        unreachable\n",
       "\u001b[90m5 ───\u001b[39m        nothing\u001b[90m::Nothing\u001b[39m\n",
       "\u001b[90m6 ┄──\u001b[39m %49  = Base.getfield(%30, :indices)\u001b[36m::Tuple{Base.OneTo{Int64}, Base.OneTo{Int64}}\u001b[39m\n",
       "\u001b[90m│    \u001b[39m %50  = Base.getfield(%49, 1, true)\u001b[36m::Base.OneTo{Int64}\u001b[39m\n",
       "\u001b[90m│    \u001b[39m %51  = Base.getfield(%50, :stop)\u001b[36m::Int64\u001b[39m\n",
       "\u001b[90m│    \u001b[39m %52  = Base.slt_int(%51, 0)\u001b[36m::Bool\u001b[39m\n",
       "\u001b[90m│    \u001b[39m %53  = Base.ifelse(%52, 0, %51)\u001b[36m::Int64\u001b[39m\n",
       "\u001b[90m│    \u001b[39m %54  = Base.sub_int(%12, 1)\u001b[36m::Int64\u001b[39m\n",
       "\u001b[90m│    \u001b[39m %55  = Base.sub_int(%53, 0)\u001b[36m::Int64\u001b[39m\n",
       "\u001b[90m│    \u001b[39m %56  = Base.checked_sdiv_int(%54, %55)\u001b[36m::Int64\u001b[39m\n",
       "\u001b[90m│    \u001b[39m %57  = Base.mul_int(%55, %56)\u001b[36m::Int64\u001b[39m\n",
       "\u001b[90m│    \u001b[39m %58  = Base.sub_int(%54, %57)\u001b[36m::Int64\u001b[39m\n",
       "\u001b[90m│    \u001b[39m %59  = Base.add_int(%58, 1)\u001b[36m::Int64\u001b[39m\n",
       "\u001b[90m│    \u001b[39m %60  = Base.add_int(%56, 1)\u001b[36m::Int64\u001b[39m\n",
       "\u001b[90m│    \u001b[39m %61  = Base.getfield(%30, :indices)\u001b[36m::Tuple{Base.OneTo{Int64}, Base.OneTo{Int64}}\u001b[39m\n",
       "\u001b[90m│    \u001b[39m %62  = Base.getfield(%61, 1, false)\u001b[36m::Base.OneTo{Int64}\u001b[39m\n",
       "\u001b[90m└────\u001b[39m        goto #10 if not true\n",
       "\u001b[90m7 ───\u001b[39m %64  = Base.slt_int(0, %59)\u001b[36m::Bool\u001b[39m\n",
       "\u001b[90m│    \u001b[39m %65  = Base.getfield(%62, :stop)\u001b[36m::Int64\u001b[39m\n",
       "\u001b[90m│    \u001b[39m %66  = Base.sle_int(%59, %65)\u001b[36m::Bool\u001b[39m\n",
       "\u001b[90m│    \u001b[39m %67  = Base.and_int(%64, %66)\u001b[36m::Bool\u001b[39m\n",
       "\u001b[90m└────\u001b[39m        goto #9 if not %67\n",
       "\u001b[90m8 ───\u001b[39m        goto #10\n",
       "\u001b[90m9 ───\u001b[39m        invoke Base.throw_boundserror(%62::Base.OneTo{Int64}, %59::Int64)\u001b[90m::Union{}\u001b[39m\n",
       "\u001b[90m└────\u001b[39m        unreachable\n",
       "\u001b[90m10 ┄─\u001b[39m        goto #11\n",
       "\u001b[90m11 ──\u001b[39m        goto #12\n",
       "\u001b[90m12 ──\u001b[39m        goto #13\n",
       "\u001b[90m13 ──\u001b[39m        goto #14\n",
       "\u001b[90m14 ──\u001b[39m %76  = Base.getfield(%61, 2, false)\u001b[36m::Base.OneTo{Int64}\u001b[39m\n",
       "\u001b[90m└────\u001b[39m        goto #18 if not true\n",
       "\u001b[90m15 ──\u001b[39m %78  = Base.slt_int(0, %60)\u001b[36m::Bool\u001b[39m\n",
       "\u001b[90m│    \u001b[39m %79  = Base.getfield(%76, :stop)\u001b[36m::Int64\u001b[39m\n",
       "\u001b[90m│    \u001b[39m %80  = Base.sle_int(%60, %79)\u001b[36m::Bool\u001b[39m\n",
       "\u001b[90m│    \u001b[39m %81  = Base.and_int(%78, %80)\u001b[36m::Bool\u001b[39m\n",
       "\u001b[90m└────\u001b[39m        goto #17 if not %81\n",
       "\u001b[90m16 ──\u001b[39m        goto #18\n",
       "\u001b[90m17 ──\u001b[39m        invoke Base.throw_boundserror(%76::Base.OneTo{Int64}, %60::Int64)\u001b[90m::Union{}\u001b[39m\n",
       "\u001b[90m└────\u001b[39m        unreachable\n",
       "\u001b[90m18 ┄─\u001b[39m        goto #19\n",
       "\u001b[90m19 ──\u001b[39m        goto #20\n",
       "\u001b[90m20 ──\u001b[39m        goto #21\n",
       "\u001b[90m21 ──\u001b[39m        goto #22\n",
       "\u001b[90m22 ──\u001b[39m        goto #23\n",
       "\u001b[90m23 ──\u001b[39m        goto #24\n",
       "\u001b[90m24 ──\u001b[39m        goto #25\n",
       "\u001b[90m25 ──\u001b[39m        goto #26\n",
       "\u001b[90m26 ──\u001b[39m        goto #27\n",
       "\u001b[90m27 ──\u001b[39m        goto #28\n",
       "\u001b[90m28 ──\u001b[39m        goto #33 if not false\n",
       "\u001b[90m29 ──\u001b[39m %97  = Core.tuple(%23)\u001b[36m::Tuple{Int64}\u001b[39m\n",
       "\u001b[90m│    \u001b[39m %98  = Base.mul_int(16, 16)\u001b[36m::Int64\u001b[39m\n",
       "\u001b[90m│    \u001b[39m %99  = Base.slt_int(%98, 0)\u001b[36m::Bool\u001b[39m\n",
       "\u001b[90m│    \u001b[39m %100 = Base.ifelse(%99, 0, %98)\u001b[36m::Int64\u001b[39m\n",
       "\u001b[90m│    \u001b[39m %101 = Base.sle_int(1, %23)\u001b[36m::Bool\u001b[39m\n",
       "\u001b[90m│    \u001b[39m %102 = Base.sle_int(%23, %100)\u001b[36m::Bool\u001b[39m\n",
       "\u001b[90m│    \u001b[39m %103 = Base.and_int(%101, %102)\u001b[36m::Bool\u001b[39m\n",
       "\u001b[90m└────\u001b[39m        goto #31 if not %103\n",
       "\u001b[90m30 ──\u001b[39m        goto #32\n",
       "\u001b[90m31 ──\u001b[39m        invoke Base.throw_boundserror($(QuoteNode(CartesianIndex{2}[CartesianIndex(1, 1) CartesianIndex(1, 2) CartesianIndex(1, 3) CartesianIndex(1, 4) CartesianIndex(1, 5) CartesianIndex(1, 6) CartesianIndex(1, 7) CartesianIndex(1, 8) CartesianIndex(1, 9) CartesianIndex(1, 10) CartesianIndex(1, 11) CartesianIndex(1, 12) CartesianIndex(1, 13) CartesianIndex(1, 14) CartesianIndex(1, 15) CartesianIndex(1, 16); CartesianIndex(2, 1) CartesianIndex(2, 2) CartesianIndex(2, 3) CartesianIndex(2, 4) CartesianIndex(2, 5) CartesianIndex(2, 6) CartesianIndex(2, 7) CartesianIndex(2, 8) CartesianIndex(2, 9) CartesianIndex(2, 10) CartesianIndex(2, 11) CartesianIndex(2, 12) CartesianIndex(2, 13) CartesianIndex(2, 14) CartesianIndex(2, 15) CartesianIndex(2, 16); CartesianIndex(3, 1) CartesianIndex(3, 2) CartesianIndex(3, 3) CartesianIndex(3, 4) CartesianIndex(3, 5) CartesianIndex(3, 6) CartesianIndex(3, 7) CartesianIndex(3, 8) CartesianIndex(3, 9) CartesianIndex(3, 10) CartesianIndex(3, 11) CartesianIndex(3, 12) CartesianIndex(3, 13) CartesianIndex(3, 14) CartesianIndex(3, 15) CartesianIndex(3, 16); CartesianIndex(4, 1) CartesianIndex(4, 2) CartesianIndex(4, 3) CartesianIndex(4, 4) CartesianIndex(4, 5) CartesianIndex(4, 6) CartesianIndex(4, 7) CartesianIndex(4, 8) CartesianIndex(4, 9) CartesianIndex(4, 10) CartesianIndex(4, 11) CartesianIndex(4, 12) CartesianIndex(4, 13) CartesianIndex(4, 14) CartesianIndex(4, 15) CartesianIndex(4, 16); CartesianIndex(5, 1) CartesianIndex(5, 2) CartesianIndex(5, 3) CartesianIndex(5, 4) CartesianIndex(5, 5) CartesianIndex(5, 6) CartesianIndex(5, 7) CartesianIndex(5, 8) CartesianIndex(5, 9) CartesianIndex(5, 10) CartesianIndex(5, 11) CartesianIndex(5, 12) CartesianIndex(5, 13) CartesianIndex(5, 14) CartesianIndex(5, 15) CartesianIndex(5, 16); CartesianIndex(6, 1) CartesianIndex(6, 2) CartesianIndex(6, 3) CartesianIndex(6, 4) CartesianIndex(6, 5) CartesianIndex(6, 6) CartesianIndex(6, 7) CartesianIndex(6, 8) CartesianIndex(6, 9) CartesianIndex(6, 10) CartesianIndex(6, 11) CartesianIndex(6, 12) CartesianIndex(6, 13) CartesianIndex(6, 14) CartesianIndex(6, 15) CartesianIndex(6, 16); CartesianIndex(7, 1) CartesianIndex(7, 2) CartesianIndex(7, 3) CartesianIndex(7, 4) CartesianIndex(7, 5) CartesianIndex(7, 6) CartesianIndex(7, 7) CartesianIndex(7, 8) CartesianIndex(7, 9) CartesianIndex(7, 10) CartesianIndex(7, 11) CartesianIndex(7, 12) CartesianIndex(7, 13) CartesianIndex(7, 14) CartesianIndex(7, 15) CartesianIndex(7, 16); CartesianIndex(8, 1) CartesianIndex(8, 2) CartesianIndex(8, 3) CartesianIndex(8, 4) CartesianIndex(8, 5) CartesianIndex(8, 6) CartesianIndex(8, 7) CartesianIndex(8, 8) CartesianIndex(8, 9) CartesianIndex(8, 10) CartesianIndex(8, 11) CartesianIndex(8, 12) CartesianIndex(8, 13) CartesianIndex(8, 14) CartesianIndex(8, 15) CartesianIndex(8, 16); CartesianIndex(9, 1) CartesianIndex(9, 2) CartesianIndex(9, 3) CartesianIndex(9, 4) CartesianIndex(9, 5) CartesianIndex(9, 6) CartesianIndex(9, 7) CartesianIndex(9, 8) CartesianIndex(9, 9) CartesianIndex(9, 10) CartesianIndex(9, 11) CartesianIndex(9, 12) CartesianIndex(9, 13) CartesianIndex(9, 14) CartesianIndex(9, 15) CartesianIndex(9, 16); CartesianIndex(10, 1) CartesianIndex(10, 2) CartesianIndex(10, 3) CartesianIndex(10, 4) CartesianIndex(10, 5) CartesianIndex(10, 6) CartesianIndex(10, 7) CartesianIndex(10, 8) CartesianIndex(10, 9) CartesianIndex(10, 10) CartesianIndex(10, 11) CartesianIndex(10, 12) CartesianIndex(10, 13) CartesianIndex(10, 14) CartesianIndex(10, 15) CartesianIndex(10, 16); CartesianIndex(11, 1) CartesianIndex(11, 2) CartesianIndex(11, 3) CartesianIndex(11, 4) CartesianIndex(11, 5) CartesianIndex(11, 6) CartesianIndex(11, 7) CartesianIndex(11, 8) CartesianIndex(11, 9) CartesianIndex(11, 10) CartesianIndex(11, 11) CartesianIndex(11, 12) CartesianIndex(11, 13) CartesianIndex(11, 14) CartesianIndex(11, 15) CartesianIndex(11, 16); CartesianIndex(12, 1) CartesianIndex(12, 2) CartesianIndex(12, 3) CartesianIndex(12, 4) CartesianIndex(12, 5) CartesianIndex(12, 6) CartesianIndex(12, 7) CartesianIndex(12, 8) CartesianIndex(12, 9) CartesianIndex(12, 10) CartesianIndex(12, 11) CartesianIndex(12, 12) CartesianIndex(12, 13) CartesianIndex(12, 14) CartesianIndex(12, 15) CartesianIndex(12, 16); CartesianIndex(13, 1) CartesianIndex(13, 2) CartesianIndex(13, 3) CartesianIndex(13, 4) CartesianIndex(13, 5) CartesianIndex(13, 6) CartesianIndex(13, 7) CartesianIndex(13, 8) CartesianIndex(13, 9) CartesianIndex(13, 10) CartesianIndex(13, 11) CartesianIndex(13, 12) CartesianIndex(13, 13) CartesianIndex(13, 14) CartesianIndex(13, 15) CartesianIndex(13, 16); CartesianIndex(14, 1) CartesianIndex(14, 2) CartesianIndex(14, 3) CartesianIndex(14, 4) CartesianIndex(14, 5) CartesianIndex(14, 6) CartesianIndex(14, 7) CartesianIndex(14, 8) CartesianIndex(14, 9) CartesianIndex(14, 10) CartesianIndex(14, 11) CartesianIndex(14, 12) CartesianIndex(14, 13) CartesianIndex(14, 14) CartesianIndex(14, 15) CartesianIndex(14, 16); CartesianIndex(15, 1) CartesianIndex(15, 2) CartesianIndex(15, 3) CartesianIndex(15, 4) CartesianIndex(15, 5) CartesianIndex(15, 6) CartesianIndex(15, 7) CartesianIndex(15, 8) CartesianIndex(15, 9) CartesianIndex(15, 10) CartesianIndex(15, 11) CartesianIndex(15, 12) CartesianIndex(15, 13) CartesianIndex(15, 14) CartesianIndex(15, 15) CartesianIndex(15, 16); CartesianIndex(16, 1) CartesianIndex(16, 2) CartesianIndex(16, 3) CartesianIndex(16, 4) CartesianIndex(16, 5) CartesianIndex(16, 6) CartesianIndex(16, 7) CartesianIndex(16, 8) CartesianIndex(16, 9) CartesianIndex(16, 10) CartesianIndex(16, 11) CartesianIndex(16, 12) CartesianIndex(16, 13) CartesianIndex(16, 14) CartesianIndex(16, 15) CartesianIndex(16, 16)]))::CartesianIndices{2, Tuple{Base.OneTo{Int64}, Base.OneTo{Int64}}}, %97::Tuple{Int64})\u001b[90m::Union{}\u001b[39m\n",
       "\u001b[90m└────\u001b[39m        unreachable\n",
       "\u001b[90m32 ──\u001b[39m        nothing\u001b[90m::Nothing\u001b[39m\n",
       "\u001b[90m33 ┄─\u001b[39m %109 = Base.sub_int(%23, 1)\u001b[36m::Int64\u001b[39m\n",
       "\u001b[90m│    \u001b[39m %110 = Base.checked_sdiv_int(%109, 16)\u001b[36m::Int64\u001b[39m\n",
       "\u001b[90m│    \u001b[39m %111 = Base.mul_int(16, %110)\u001b[36m::Int64\u001b[39m\n",
       "\u001b[90m│    \u001b[39m %112 = Base.sub_int(%109, %111)\u001b[36m::Int64\u001b[39m\n",
       "\u001b[90m│    \u001b[39m %113 = Base.add_int(%112, 1)\u001b[36m::Int64\u001b[39m\n",
       "\u001b[90m│    \u001b[39m %114 = Base.add_int(%110, 1)\u001b[36m::Int64\u001b[39m\n",
       "\u001b[90m└────\u001b[39m        goto #37 if not true\n",
       "\u001b[90m34 ──\u001b[39m %116 = Base.slt_int(0, %113)\u001b[36m::Bool\u001b[39m\n",
       "\u001b[90m│    \u001b[39m %117 = Base.sle_int(%113, 16)\u001b[36m::Bool\u001b[39m\n",
       "\u001b[90m│    \u001b[39m %118 = Base.and_int(%116, %117)\u001b[36m::Bool\u001b[39m\n",
       "\u001b[90m└────\u001b[39m        goto #36 if not %118\n",
       "\u001b[90m35 ──\u001b[39m        goto #37\n",
       "\u001b[90m36 ──\u001b[39m        invoke Base.throw_boundserror($(QuoteNode(Base.OneTo(16)))::Base.OneTo{Int64}, %113::Int64)\u001b[90m::Union{}\u001b[39m\n",
       "\u001b[90m└────\u001b[39m        unreachable\n",
       "\u001b[90m37 ┄─\u001b[39m        goto #38\n",
       "\u001b[90m38 ──\u001b[39m        goto #39\n",
       "\u001b[90m39 ──\u001b[39m        goto #40\n",
       "\u001b[90m40 ──\u001b[39m        goto #41\n",
       "\u001b[90m41 ──\u001b[39m        goto #45 if not true\n",
       "\u001b[90m42 ──\u001b[39m %128 = Base.slt_int(0, %114)\u001b[36m::Bool\u001b[39m\n",
       "\u001b[90m│    \u001b[39m %129 = Base.sle_int(%114, 16)\u001b[36m::Bool\u001b[39m\n",
       "\u001b[90m│    \u001b[39m %130 = Base.and_int(%128, %129)\u001b[36m::Bool\u001b[39m\n",
       "\u001b[90m└────\u001b[39m        goto #44 if not %130\n",
       "\u001b[90m43 ──\u001b[39m        goto #45\n",
       "\u001b[90m44 ──\u001b[39m        invoke Base.throw_boundserror($(QuoteNode(Base.OneTo(16)))::Base.OneTo{Int64}, %114::Int64)\u001b[90m::Union{}\u001b[39m\n",
       "\u001b[90m└────\u001b[39m        unreachable\n",
       "\u001b[90m45 ┄─\u001b[39m        goto #46\n",
       "\u001b[90m46 ──\u001b[39m        goto #47\n",
       "\u001b[90m47 ──\u001b[39m        goto #48\n",
       "\u001b[90m48 ──\u001b[39m        goto #49\n",
       "\u001b[90m49 ──\u001b[39m        goto #50\n",
       "\u001b[90m50 ──\u001b[39m        goto #51\n",
       "\u001b[90m51 ──\u001b[39m        goto #52\n",
       "\u001b[90m52 ──\u001b[39m        goto #53\n",
       "\u001b[90m53 ──\u001b[39m        goto #54\n",
       "\u001b[90m54 ──\u001b[39m        goto #55\n",
       "\u001b[90m55 ──\u001b[39m %145 = Base.sub_int(%59, 1)\u001b[36m::Int64\u001b[39m\n",
       "\u001b[90m│    \u001b[39m %146 = Base.mul_int(%145, 16)\u001b[36m::Int64\u001b[39m\n",
       "\u001b[90m│    \u001b[39m %147 = Base.add_int(%146, %113)\u001b[36m::Int64\u001b[39m\n",
       "\u001b[90m│    \u001b[39m %148 = Base.sub_int(%60, 1)\u001b[36m::Int64\u001b[39m\n",
       "\u001b[90m│    \u001b[39m %149 = Base.mul_int(%148, 16)\u001b[36m::Int64\u001b[39m\n",
       "\u001b[90m│    \u001b[39m %150 = Base.add_int(%149, %114)\u001b[36m::Int64\u001b[39m\n",
       "\u001b[90m└────\u001b[39m        goto #56\n",
       "\u001b[90m56 ──\u001b[39m %152 = Base.getfield(%1, :ndrange)\u001b[36m::CartesianIndices{2, Tuple{Base.OneTo{Int64}, Base.OneTo{Int64}}}\u001b[39m\n",
       "\u001b[90m│    \u001b[39m %153 = Base.getfield(%152, :indices)\u001b[36m::Tuple{Base.OneTo{Int64}, Base.OneTo{Int64}}\u001b[39m\n",
       "\u001b[90m│    \u001b[39m %154 = Base.getfield(%153, 1, true)\u001b[36m::Base.OneTo{Int64}\u001b[39m\n",
       "\u001b[90m│    \u001b[39m %155 = Base.sle_int(1, %147)\u001b[36m::Bool\u001b[39m\n",
       "\u001b[90m│    \u001b[39m %156 = Base.getfield(%154, :stop)\u001b[36m::Int64\u001b[39m\n",
       "\u001b[90m│    \u001b[39m %157 = Base.sle_int(%147, %156)\u001b[36m::Bool\u001b[39m\n",
       "\u001b[90m│    \u001b[39m %158 = Base.and_int(%155, %157)\u001b[36m::Bool\u001b[39m\n",
       "\u001b[90m│    \u001b[39m %159 = Base.getfield(%153, 2, true)\u001b[36m::Base.OneTo{Int64}\u001b[39m\n",
       "\u001b[90m│    \u001b[39m %160 = Base.sle_int(1, %150)\u001b[36m::Bool\u001b[39m\n",
       "\u001b[90m│    \u001b[39m %161 = Base.getfield(%159, :stop)\u001b[36m::Int64\u001b[39m\n",
       "\u001b[90m│    \u001b[39m %162 = Base.sle_int(%150, %161)\u001b[36m::Bool\u001b[39m\n",
       "\u001b[90m│    \u001b[39m %163 = Base.and_int(%160, %162)\u001b[36m::Bool\u001b[39m\n",
       "\u001b[90m│    \u001b[39m %164 = Base.and_int(%158, %163)\u001b[36m::Bool\u001b[39m\n",
       "\u001b[90m└────\u001b[39m        goto #57\n",
       "\u001b[90m57 ──\u001b[39m        goto #254 if not %164\n",
       "\u001b[90m58 ──\u001b[39m %167 = Base.getfield(%1, :iterspace)\u001b[36m::KernelAbstractions.NDIteration.NDRange{2, KernelAbstractions.NDIteration.DynamicSize, KernelAbstractions.NDIteration.StaticSize{(16, 16)}, CartesianIndices{2, Tuple{Base.OneTo{Int64}, Base.OneTo{Int64}}}, Nothing}\u001b[39m\n",
       "\u001b[90m│    \u001b[39m %168 = Base.llvmcall\u001b[36m::Core.IntrinsicFunction\u001b[39m\n",
       "\u001b[90m│    \u001b[39m %169 = Core.tuple(\"; ModuleID = 'llvmcall'\\nsource_filename = \\\"llvmcall\\\"\\n\\n; Function Attrs: alwaysinline\\ndefine i32 @entry() #0 {\\nentry:\\n  %0 = call i32 @llvm.nvvm.read.ptx.sreg.ctaid.x(), !range !0\\n  ret i32 %0\\n}\\n\\n; Function Attrs: nounwind readnone\\ndeclare i32 @llvm.nvvm.read.ptx.sreg.ctaid.x() #1\\n\\nattributes #0 = { alwaysinline }\\nattributes #1 = { nounwind readnone }\\n\\n!0 = !{i32 0, i32 2147483646}\\n\", \"entry\")\u001b[36m::Tuple{String, String}\u001b[39m\n",
       "\u001b[90m│    \u001b[39m %170 = (%168)(%169, UInt32, Tuple{})\u001b[36m::UInt32\u001b[39m\n",
       "\u001b[90m│    \u001b[39m %171 = Core.zext_int(Core.Int64, %170)\u001b[36m::Int64\u001b[39m\n",
       "\u001b[90m│    \u001b[39m %172 = Base.add_int(%171, 1)\u001b[36m::Int64\u001b[39m\n",
       "\u001b[90m│    \u001b[39m %173 = Base.llvmcall\u001b[36m::Core.IntrinsicFunction\u001b[39m\n",
       "\u001b[90m│    \u001b[39m %174 = Core.tuple(\"; ModuleID = 'llvmcall'\\nsource_filename = \\\"llvmcall\\\"\\n\\n; Function Attrs: alwaysinline\\ndefine i32 @entry() #0 {\\nentry:\\n  %0 = call i32 @llvm.nvvm.read.ptx.sreg.ctaid.y(), !range !0\\n  ret i32 %0\\n}\\n\\n; Function Attrs: nounwind readnone\\ndeclare i32 @llvm.nvvm.read.ptx.sreg.ctaid.y() #1\\n\\nattributes #0 = { alwaysinline }\\nattributes #1 = { nounwind readnone }\\n\\n!0 = !{i32 0, i32 65534}\\n\", \"entry\")\u001b[36m::Tuple{String, String}\u001b[39m\n",
       "\u001b[90m│    \u001b[39m        (%173)(%174, UInt32, Tuple{})\u001b[90m::UInt32\u001b[39m\n",
       "\u001b[90m│    \u001b[39m %176 = Base.llvmcall\u001b[36m::Core.IntrinsicFunction\u001b[39m\n",
       "\u001b[90m│    \u001b[39m %177 = Core.tuple(\"; ModuleID = 'llvmcall'\\nsource_filename = \\\"llvmcall\\\"\\n\\n; Function Attrs: alwaysinline\\ndefine i32 @entry() #0 {\\nentry:\\n  %0 = call i32 @llvm.nvvm.read.ptx.sreg.ctaid.z(), !range !0\\n  ret i32 %0\\n}\\n\\n; Function Attrs: nounwind readnone\\ndeclare i32 @llvm.nvvm.read.ptx.sreg.ctaid.z() #1\\n\\nattributes #0 = { alwaysinline }\\nattributes #1 = { nounwind readnone }\\n\\n!0 = !{i32 0, i32 65534}\\n\", \"entry\")\u001b[36m::Tuple{String, String}\u001b[39m\n",
       "\u001b[90m│    \u001b[39m        (%176)(%177, UInt32, Tuple{})\u001b[90m::UInt32\u001b[39m\n",
       "\u001b[90m│    \u001b[39m %179 = Base.llvmcall\u001b[36m::Core.IntrinsicFunction\u001b[39m\n",
       "\u001b[90m│    \u001b[39m %180 = Core.tuple(\"; ModuleID = 'llvmcall'\\nsource_filename = \\\"llvmcall\\\"\\n\\n; Function Attrs: alwaysinline\\ndefine i32 @entry() #0 {\\nentry:\\n  %0 = call i32 @llvm.nvvm.read.ptx.sreg.tid.x(), !range !0\\n  ret i32 %0\\n}\\n\\n; Function Attrs: nounwind readnone\\ndeclare i32 @llvm.nvvm.read.ptx.sreg.tid.x() #1\\n\\nattributes #0 = { alwaysinline }\\nattributes #1 = { nounwind readnone }\\n\\n!0 = !{i32 0, i32 1023}\\n\", \"entry\")\u001b[36m::Tuple{String, String}\u001b[39m\n",
       "\u001b[90m│    \u001b[39m %181 = (%179)(%180, UInt32, Tuple{})\u001b[36m::UInt32\u001b[39m\n",
       "\u001b[90m│    \u001b[39m %182 = Core.zext_int(Core.Int64, %181)\u001b[36m::Int64\u001b[39m\n",
       "\u001b[90m│    \u001b[39m %183 = Base.add_int(%182, 1)\u001b[36m::Int64\u001b[39m\n",
       "\u001b[90m│    \u001b[39m %184 = Base.llvmcall\u001b[36m::Core.IntrinsicFunction\u001b[39m\n",
       "\u001b[90m│    \u001b[39m %185 = Core.tuple(\"; ModuleID = 'llvmcall'\\nsource_filename = \\\"llvmcall\\\"\\n\\n; Function Attrs: alwaysinline\\ndefine i32 @entry() #0 {\\nentry:\\n  %0 = call i32 @llvm.nvvm.read.ptx.sreg.tid.y(), !range !0\\n  ret i32 %0\\n}\\n\\n; Function Attrs: nounwind readnone\\ndeclare i32 @llvm.nvvm.read.ptx.sreg.tid.y() #1\\n\\nattributes #0 = { alwaysinline }\\nattributes #1 = { nounwind readnone }\\n\\n!0 = !{i32 0, i32 1023}\\n\", \"entry\")\u001b[36m::Tuple{String, String}\u001b[39m\n",
       "\u001b[90m│    \u001b[39m        (%184)(%185, UInt32, Tuple{})\u001b[90m::UInt32\u001b[39m\n",
       "\u001b[90m│    \u001b[39m %187 = Base.llvmcall\u001b[36m::Core.IntrinsicFunction\u001b[39m\n",
       "\u001b[90m│    \u001b[39m %188 = Core.tuple(\"; ModuleID = 'llvmcall'\\nsource_filename = \\\"llvmcall\\\"\\n\\n; Function Attrs: alwaysinline\\ndefine i32 @entry() #0 {\\nentry:\\n  %0 = call i32 @llvm.nvvm.read.ptx.sreg.tid.z(), !range !0\\n  ret i32 %0\\n}\\n\\n; Function Attrs: nounwind readnone\\ndeclare i32 @llvm.nvvm.read.ptx.sreg.tid.z() #1\\n\\nattributes #0 = { alwaysinline }\\nattributes #1 = { nounwind readnone }\\n\\n!0 = !{i32 0, i32 63}\\n\", \"entry\")\u001b[36m::Tuple{String, String}\u001b[39m\n",
       "\u001b[90m│    \u001b[39m        (%187)(%188, UInt32, Tuple{})\u001b[90m::UInt32\u001b[39m\n",
       "\u001b[90m│    \u001b[39m %190 = Base.getfield(%167, :blocks)\u001b[36m::CartesianIndices{2, Tuple{Base.OneTo{Int64}, Base.OneTo{Int64}}}\u001b[39m\n",
       "\u001b[90m└────\u001b[39m        goto #63 if not false\n",
       "\u001b[90m59 ──\u001b[39m %192 = Core.tuple(%172)\u001b[36m::Tuple{Int64}\u001b[39m\n",
       "\u001b[90m│    \u001b[39m %193 = Base.getfield(%190, :indices)\u001b[36m::Tuple{Base.OneTo{Int64}, Base.OneTo{Int64}}\u001b[39m\n",
       "\u001b[90m│    \u001b[39m %194 = Base.getfield(%193, 1, true)\u001b[36m::Base.OneTo{Int64}\u001b[39m\n",
       "\u001b[90m│    \u001b[39m %195 = Base.getfield(%194, :stop)\u001b[36m::Int64\u001b[39m\n",
       "\u001b[90m│    \u001b[39m %196 = Base.getfield(%193, 2, true)\u001b[36m::Base.OneTo{Int64}\u001b[39m\n",
       "\u001b[90m│    \u001b[39m %197 = Base.getfield(%196, :stop)\u001b[36m::Int64\u001b[39m\n",
       "\u001b[90m│    \u001b[39m %198 = Base.mul_int(%195, %197)\u001b[36m::Int64\u001b[39m\n",
       "\u001b[90m│    \u001b[39m %199 = Base.slt_int(%198, 0)\u001b[36m::Bool\u001b[39m\n",
       "\u001b[90m│    \u001b[39m %200 = Base.ifelse(%199, 0, %198)\u001b[36m::Int64\u001b[39m\n",
       "\u001b[90m│    \u001b[39m %201 = Base.sle_int(1, %172)\u001b[36m::Bool\u001b[39m\n",
       "\u001b[90m│    \u001b[39m %202 = Base.sle_int(%172, %200)\u001b[36m::Bool\u001b[39m\n",
       "\u001b[90m│    \u001b[39m %203 = Base.and_int(%201, %202)\u001b[36m::Bool\u001b[39m\n",
       "\u001b[90m└────\u001b[39m        goto #61 if not %203\n",
       "\u001b[90m60 ──\u001b[39m        goto #62\n",
       "\u001b[90m61 ──\u001b[39m        invoke Base.throw_boundserror(%190::CartesianIndices{2, Tuple{Base.OneTo{Int64}, Base.OneTo{Int64}}}, %192::Tuple{Int64})\u001b[90m::Union{}\u001b[39m\n",
       "\u001b[90m└────\u001b[39m        unreachable\n",
       "\u001b[90m62 ──\u001b[39m        nothing\u001b[90m::Nothing\u001b[39m\n",
       "\u001b[90m63 ┄─\u001b[39m %209 = Base.getfield(%190, :indices)\u001b[36m::Tuple{Base.OneTo{Int64}, Base.OneTo{Int64}}\u001b[39m\n",
       "\u001b[90m│    \u001b[39m %210 = Base.getfield(%209, 1, true)\u001b[36m::Base.OneTo{Int64}\u001b[39m\n",
       "\u001b[90m│    \u001b[39m %211 = Base.getfield(%210, :stop)\u001b[36m::Int64\u001b[39m\n",
       "\u001b[90m│    \u001b[39m %212 = Base.slt_int(%211, 0)\u001b[36m::Bool\u001b[39m\n",
       "\u001b[90m│    \u001b[39m %213 = Base.ifelse(%212, 0, %211)\u001b[36m::Int64\u001b[39m\n",
       "\u001b[90m│    \u001b[39m %214 = Base.sub_int(%172, 1)\u001b[36m::Int64\u001b[39m\n",
       "\u001b[90m│    \u001b[39m %215 = Base.sub_int(%213, 0)\u001b[36m::Int64\u001b[39m\n",
       "\u001b[90m│    \u001b[39m %216 = Base.checked_sdiv_int(%214, %215)\u001b[36m::Int64\u001b[39m\n",
       "\u001b[90m│    \u001b[39m %217 = Base.mul_int(%215, %216)\u001b[36m::Int64\u001b[39m\n",
       "\u001b[90m│    \u001b[39m %218 = Base.sub_int(%214, %217)\u001b[36m::Int64\u001b[39m\n",
       "\u001b[90m│    \u001b[39m %219 = Base.add_int(%218, 1)\u001b[36m::Int64\u001b[39m\n",
       "\u001b[90m│    \u001b[39m %220 = Base.add_int(%216, 1)\u001b[36m::Int64\u001b[39m\n",
       "\u001b[90m│    \u001b[39m %221 = Base.getfield(%190, :indices)\u001b[36m::Tuple{Base.OneTo{Int64}, Base.OneTo{Int64}}\u001b[39m\n",
       "\u001b[90m│    \u001b[39m %222 = Base.getfield(%221, 1, false)\u001b[36m::Base.OneTo{Int64}\u001b[39m\n",
       "\u001b[90m└────\u001b[39m        goto #67 if not true\n",
       "\u001b[90m64 ──\u001b[39m %224 = Base.slt_int(0, %219)\u001b[36m::Bool\u001b[39m\n",
       "\u001b[90m│    \u001b[39m %225 = Base.getfield(%222, :stop)\u001b[36m::Int64\u001b[39m\n",
       "\u001b[90m│    \u001b[39m %226 = Base.sle_int(%219, %225)\u001b[36m::Bool\u001b[39m\n",
       "\u001b[90m│    \u001b[39m %227 = Base.and_int(%224, %226)\u001b[36m::Bool\u001b[39m\n",
       "\u001b[90m└────\u001b[39m        goto #66 if not %227\n",
       "\u001b[90m65 ──\u001b[39m        goto #67\n",
       "\u001b[90m66 ──\u001b[39m        invoke Base.throw_boundserror(%222::Base.OneTo{Int64}, %219::Int64)\u001b[90m::Union{}\u001b[39m\n",
       "\u001b[90m└────\u001b[39m        unreachable\n",
       "\u001b[90m67 ┄─\u001b[39m        goto #68\n",
       "\u001b[90m68 ──\u001b[39m        goto #69\n",
       "\u001b[90m69 ──\u001b[39m        goto #70\n",
       "\u001b[90m70 ──\u001b[39m        goto #71\n",
       "\u001b[90m71 ──\u001b[39m %236 = Base.getfield(%221, 2, false)\u001b[36m::Base.OneTo{Int64}\u001b[39m\n",
       "\u001b[90m└────\u001b[39m        goto #75 if not true\n",
       "\u001b[90m72 ──\u001b[39m %238 = Base.slt_int(0, %220)\u001b[36m::Bool\u001b[39m\n",
       "\u001b[90m│    \u001b[39m %239 = Base.getfield(%236, :stop)\u001b[36m::Int64\u001b[39m\n",
       "\u001b[90m│    \u001b[39m %240 = Base.sle_int(%220, %239)\u001b[36m::Bool\u001b[39m\n",
       "\u001b[90m│    \u001b[39m %241 = Base.and_int(%238, %240)\u001b[36m::Bool\u001b[39m\n",
       "\u001b[90m└────\u001b[39m        goto #74 if not %241\n",
       "\u001b[90m73 ──\u001b[39m        goto #75\n",
       "\u001b[90m74 ──\u001b[39m        invoke Base.throw_boundserror(%236::Base.OneTo{Int64}, %220::Int64)\u001b[90m::Union{}\u001b[39m\n",
       "\u001b[90m└────\u001b[39m        unreachable\n",
       "\u001b[90m75 ┄─\u001b[39m        goto #76\n",
       "\u001b[90m76 ──\u001b[39m        goto #77\n",
       "\u001b[90m77 ──\u001b[39m        goto #78\n",
       "\u001b[90m78 ──\u001b[39m        goto #79\n",
       "\u001b[90m79 ──\u001b[39m        goto #80\n",
       "\u001b[90m80 ──\u001b[39m        goto #81\n",
       "\u001b[90m81 ──\u001b[39m        goto #82\n",
       "\u001b[90m82 ──\u001b[39m        goto #83\n",
       "\u001b[90m83 ──\u001b[39m        goto #84\n",
       "\u001b[90m84 ──\u001b[39m        goto #85\n",
       "\u001b[90m85 ──\u001b[39m        goto #90 if not false\n",
       "\u001b[90m86 ──\u001b[39m %257 = Core.tuple(%183)\u001b[36m::Tuple{Int64}\u001b[39m\n",
       "\u001b[90m│    \u001b[39m %258 = Base.mul_int(16, 16)\u001b[36m::Int64\u001b[39m\n",
       "\u001b[90m│    \u001b[39m %259 = Base.slt_int(%258, 0)\u001b[36m::Bool\u001b[39m\n",
       "\u001b[90m│    \u001b[39m %260 = Base.ifelse(%259, 0, %258)\u001b[36m::Int64\u001b[39m\n",
       "\u001b[90m│    \u001b[39m %261 = Base.sle_int(1, %183)\u001b[36m::Bool\u001b[39m\n",
       "\u001b[90m│    \u001b[39m %262 = Base.sle_int(%183, %260)\u001b[36m::Bool\u001b[39m\n",
       "\u001b[90m│    \u001b[39m %263 = Base.and_int(%261, %262)\u001b[36m::Bool\u001b[39m\n",
       "\u001b[90m└────\u001b[39m        goto #88 if not %263\n",
       "\u001b[90m87 ──\u001b[39m        goto #89\n",
       "\u001b[90m88 ──\u001b[39m        invoke Base.throw_boundserror($(QuoteNode(CartesianIndex{2}[CartesianIndex(1, 1) CartesianIndex(1, 2) CartesianIndex(1, 3) CartesianIndex(1, 4) CartesianIndex(1, 5) CartesianIndex(1, 6) CartesianIndex(1, 7) CartesianIndex(1, 8) CartesianIndex(1, 9) CartesianIndex(1, 10) CartesianIndex(1, 11) CartesianIndex(1, 12) CartesianIndex(1, 13) CartesianIndex(1, 14) CartesianIndex(1, 15) CartesianIndex(1, 16); CartesianIndex(2, 1) CartesianIndex(2, 2) CartesianIndex(2, 3) CartesianIndex(2, 4) CartesianIndex(2, 5) CartesianIndex(2, 6) CartesianIndex(2, 7) CartesianIndex(2, 8) CartesianIndex(2, 9) CartesianIndex(2, 10) CartesianIndex(2, 11) CartesianIndex(2, 12) CartesianIndex(2, 13) CartesianIndex(2, 14) CartesianIndex(2, 15) CartesianIndex(2, 16); CartesianIndex(3, 1) CartesianIndex(3, 2) CartesianIndex(3, 3) CartesianIndex(3, 4) CartesianIndex(3, 5) CartesianIndex(3, 6) CartesianIndex(3, 7) CartesianIndex(3, 8) CartesianIndex(3, 9) CartesianIndex(3, 10) CartesianIndex(3, 11) CartesianIndex(3, 12) CartesianIndex(3, 13) CartesianIndex(3, 14) CartesianIndex(3, 15) CartesianIndex(3, 16); CartesianIndex(4, 1) CartesianIndex(4, 2) CartesianIndex(4, 3) CartesianIndex(4, 4) CartesianIndex(4, 5) CartesianIndex(4, 6) CartesianIndex(4, 7) CartesianIndex(4, 8) CartesianIndex(4, 9) CartesianIndex(4, 10) CartesianIndex(4, 11) CartesianIndex(4, 12) CartesianIndex(4, 13) CartesianIndex(4, 14) CartesianIndex(4, 15) CartesianIndex(4, 16); CartesianIndex(5, 1) CartesianIndex(5, 2) CartesianIndex(5, 3) CartesianIndex(5, 4) CartesianIndex(5, 5) CartesianIndex(5, 6) CartesianIndex(5, 7) CartesianIndex(5, 8) CartesianIndex(5, 9) CartesianIndex(5, 10) CartesianIndex(5, 11) CartesianIndex(5, 12) CartesianIndex(5, 13) CartesianIndex(5, 14) CartesianIndex(5, 15) CartesianIndex(5, 16); CartesianIndex(6, 1) CartesianIndex(6, 2) CartesianIndex(6, 3) CartesianIndex(6, 4) CartesianIndex(6, 5) CartesianIndex(6, 6) CartesianIndex(6, 7) CartesianIndex(6, 8) CartesianIndex(6, 9) CartesianIndex(6, 10) CartesianIndex(6, 11) CartesianIndex(6, 12) CartesianIndex(6, 13) CartesianIndex(6, 14) CartesianIndex(6, 15) CartesianIndex(6, 16); CartesianIndex(7, 1) CartesianIndex(7, 2) CartesianIndex(7, 3) CartesianIndex(7, 4) CartesianIndex(7, 5) CartesianIndex(7, 6) CartesianIndex(7, 7) CartesianIndex(7, 8) CartesianIndex(7, 9) CartesianIndex(7, 10) CartesianIndex(7, 11) CartesianIndex(7, 12) CartesianIndex(7, 13) CartesianIndex(7, 14) CartesianIndex(7, 15) CartesianIndex(7, 16); CartesianIndex(8, 1) CartesianIndex(8, 2) CartesianIndex(8, 3) CartesianIndex(8, 4) CartesianIndex(8, 5) CartesianIndex(8, 6) CartesianIndex(8, 7) CartesianIndex(8, 8) CartesianIndex(8, 9) CartesianIndex(8, 10) CartesianIndex(8, 11) CartesianIndex(8, 12) CartesianIndex(8, 13) CartesianIndex(8, 14) CartesianIndex(8, 15) CartesianIndex(8, 16); CartesianIndex(9, 1) CartesianIndex(9, 2) CartesianIndex(9, 3) CartesianIndex(9, 4) CartesianIndex(9, 5) CartesianIndex(9, 6) CartesianIndex(9, 7) CartesianIndex(9, 8) CartesianIndex(9, 9) CartesianIndex(9, 10) CartesianIndex(9, 11) CartesianIndex(9, 12) CartesianIndex(9, 13) CartesianIndex(9, 14) CartesianIndex(9, 15) CartesianIndex(9, 16); CartesianIndex(10, 1) CartesianIndex(10, 2) CartesianIndex(10, 3) CartesianIndex(10, 4) CartesianIndex(10, 5) CartesianIndex(10, 6) CartesianIndex(10, 7) CartesianIndex(10, 8) CartesianIndex(10, 9) CartesianIndex(10, 10) CartesianIndex(10, 11) CartesianIndex(10, 12) CartesianIndex(10, 13) CartesianIndex(10, 14) CartesianIndex(10, 15) CartesianIndex(10, 16); CartesianIndex(11, 1) CartesianIndex(11, 2) CartesianIndex(11, 3) CartesianIndex(11, 4) CartesianIndex(11, 5) CartesianIndex(11, 6) CartesianIndex(11, 7) CartesianIndex(11, 8) CartesianIndex(11, 9) CartesianIndex(11, 10) CartesianIndex(11, 11) CartesianIndex(11, 12) CartesianIndex(11, 13) CartesianIndex(11, 14) CartesianIndex(11, 15) CartesianIndex(11, 16); CartesianIndex(12, 1) CartesianIndex(12, 2) CartesianIndex(12, 3) CartesianIndex(12, 4) CartesianIndex(12, 5) CartesianIndex(12, 6) CartesianIndex(12, 7) CartesianIndex(12, 8) CartesianIndex(12, 9) CartesianIndex(12, 10) CartesianIndex(12, 11) CartesianIndex(12, 12) CartesianIndex(12, 13) CartesianIndex(12, 14) CartesianIndex(12, 15) CartesianIndex(12, 16); CartesianIndex(13, 1) CartesianIndex(13, 2) CartesianIndex(13, 3) CartesianIndex(13, 4) CartesianIndex(13, 5) CartesianIndex(13, 6) CartesianIndex(13, 7) CartesianIndex(13, 8) CartesianIndex(13, 9) CartesianIndex(13, 10) CartesianIndex(13, 11) CartesianIndex(13, 12) CartesianIndex(13, 13) CartesianIndex(13, 14) CartesianIndex(13, 15) CartesianIndex(13, 16); CartesianIndex(14, 1) CartesianIndex(14, 2) CartesianIndex(14, 3) CartesianIndex(14, 4) CartesianIndex(14, 5) CartesianIndex(14, 6) CartesianIndex(14, 7) CartesianIndex(14, 8) CartesianIndex(14, 9) CartesianIndex(14, 10) CartesianIndex(14, 11) CartesianIndex(14, 12) CartesianIndex(14, 13) CartesianIndex(14, 14) CartesianIndex(14, 15) CartesianIndex(14, 16); CartesianIndex(15, 1) CartesianIndex(15, 2) CartesianIndex(15, 3) CartesianIndex(15, 4) CartesianIndex(15, 5) CartesianIndex(15, 6) CartesianIndex(15, 7) CartesianIndex(15, 8) CartesianIndex(15, 9) CartesianIndex(15, 10) CartesianIndex(15, 11) CartesianIndex(15, 12) CartesianIndex(15, 13) CartesianIndex(15, 14) CartesianIndex(15, 15) CartesianIndex(15, 16); CartesianIndex(16, 1) CartesianIndex(16, 2) CartesianIndex(16, 3) CartesianIndex(16, 4) CartesianIndex(16, 5) CartesianIndex(16, 6) CartesianIndex(16, 7) CartesianIndex(16, 8) CartesianIndex(16, 9) CartesianIndex(16, 10) CartesianIndex(16, 11) CartesianIndex(16, 12) CartesianIndex(16, 13) CartesianIndex(16, 14) CartesianIndex(16, 15) CartesianIndex(16, 16)]))::CartesianIndices{2, Tuple{Base.OneTo{Int64}, Base.OneTo{Int64}}}, %257::Tuple{Int64})\u001b[90m::Union{}\u001b[39m\n",
       "\u001b[90m└────\u001b[39m        unreachable\n",
       "\u001b[90m89 ──\u001b[39m        nothing\u001b[90m::Nothing\u001b[39m\n",
       "\u001b[90m90 ┄─\u001b[39m %269 = Base.sub_int(%183, 1)\u001b[36m::Int64\u001b[39m\n",
       "\u001b[90m│    \u001b[39m %270 = Base.checked_sdiv_int(%269, 16)\u001b[36m::Int64\u001b[39m\n",
       "\u001b[90m│    \u001b[39m %271 = Base.mul_int(16, %270)\u001b[36m::Int64\u001b[39m\n",
       "\u001b[90m│    \u001b[39m %272 = Base.sub_int(%269, %271)\u001b[36m::Int64\u001b[39m\n",
       "\u001b[90m│    \u001b[39m %273 = Base.add_int(%272, 1)\u001b[36m::Int64\u001b[39m\n",
       "\u001b[90m│    \u001b[39m %274 = Base.add_int(%270, 1)\u001b[36m::Int64\u001b[39m\n",
       "\u001b[90m└────\u001b[39m        goto #94 if not true\n",
       "\u001b[90m91 ──\u001b[39m %276 = Base.slt_int(0, %273)\u001b[36m::Bool\u001b[39m\n",
       "\u001b[90m│    \u001b[39m %277 = Base.sle_int(%273, 16)\u001b[36m::Bool\u001b[39m\n",
       "\u001b[90m│    \u001b[39m %278 = Base.and_int(%276, %277)\u001b[36m::Bool\u001b[39m\n",
       "\u001b[90m└────\u001b[39m        goto #93 if not %278\n",
       "\u001b[90m92 ──\u001b[39m        goto #94\n",
       "\u001b[90m93 ──\u001b[39m        invoke Base.throw_boundserror($(QuoteNode(Base.OneTo(16)))::Base.OneTo{Int64}, %273::Int64)\u001b[90m::Union{}\u001b[39m\n",
       "\u001b[90m└────\u001b[39m        unreachable\n",
       "\u001b[90m94 ┄─\u001b[39m        goto #95\n",
       "\u001b[90m95 ──\u001b[39m        goto #96\n",
       "\u001b[90m96 ──\u001b[39m        goto #97\n",
       "\u001b[90m97 ──\u001b[39m        goto #98\n",
       "\u001b[90m98 ──\u001b[39m        goto #102 if not true\n",
       "\u001b[90m99 ──\u001b[39m %288 = Base.slt_int(0, %274)\u001b[36m::Bool\u001b[39m\n",
       "\u001b[90m│    \u001b[39m %289 = Base.sle_int(%274, 16)\u001b[36m::Bool\u001b[39m\n",
       "\u001b[90m│    \u001b[39m %290 = Base.and_int(%288, %289)\u001b[36m::Bool\u001b[39m\n",
       "\u001b[90m└────\u001b[39m        goto #101 if not %290\n",
       "\u001b[90m100 ─\u001b[39m        goto #102\n",
       "\u001b[90m101 ─\u001b[39m        invoke Base.throw_boundserror($(QuoteNode(Base.OneTo(16)))::Base.OneTo{Int64}, %274::Int64)\u001b[90m::Union{}\u001b[39m\n",
       "\u001b[90m└────\u001b[39m        unreachable\n",
       "\u001b[90m102 ┄\u001b[39m        goto #103\n",
       "\u001b[90m103 ─\u001b[39m        goto #104\n",
       "\u001b[90m104 ─\u001b[39m        goto #105\n",
       "\u001b[90m105 ─\u001b[39m        goto #106\n",
       "\u001b[90m106 ─\u001b[39m        goto #107\n",
       "\u001b[90m107 ─\u001b[39m        goto #108\n",
       "\u001b[90m108 ─\u001b[39m        goto #109\n",
       "\u001b[90m109 ─\u001b[39m        goto #110\n",
       "\u001b[90m110 ─\u001b[39m        goto #111\n",
       "\u001b[90m111 ─\u001b[39m        goto #112\n",
       "\u001b[90m112 ─\u001b[39m %305 = Base.sub_int(%219, 1)\u001b[36m::Int64\u001b[39m\n",
       "\u001b[90m│    \u001b[39m %306 = Base.mul_int(%305, 16)\u001b[36m::Int64\u001b[39m\n",
       "\u001b[90m│    \u001b[39m %307 = Base.add_int(%306, %273)\u001b[36m::Int64\u001b[39m\n",
       "\u001b[90m│    \u001b[39m %308 = Base.sub_int(%220, 1)\u001b[36m::Int64\u001b[39m\n",
       "\u001b[90m│    \u001b[39m %309 = Base.mul_int(%308, 16)\u001b[36m::Int64\u001b[39m\n",
       "\u001b[90m│    \u001b[39m %310 = Base.add_int(%309, %274)\u001b[36m::Int64\u001b[39m\n",
       "\u001b[90m└────\u001b[39m        goto #113\n",
       "\u001b[90m113 ─\u001b[39m        goto #114\n",
       "\u001b[90m114 ─\u001b[39m        goto #115\n",
       "\u001b[90m115 ─\u001b[39m %314 = Base.llvmcall\u001b[36m::Core.IntrinsicFunction\u001b[39m\n",
       "\u001b[90m│    \u001b[39m %315 = Core.tuple(\"; ModuleID = 'llvmcall'\\nsource_filename = \\\"llvmcall\\\"\\n\\n@__static_shmem_280 = internal addrspace(3) global [324 x double] zeroinitializer, align 32\\n\\n; Function Attrs: alwaysinline\\ndefine i8 addrspace(3)* @entry() #0 {\\nentry:\\n  ret i8 addrspace(3)* bitcast ([324 x double] addrspace(3)* @__static_shmem_280 to i8 addrspace(3)*)\\n}\\n\\nattributes #0 = { alwaysinline }\\n\", \"entry\")\u001b[36m::Tuple{String, String}\u001b[39m\n",
       "\u001b[90m│    \u001b[39m        (%314)(%315, Core.LLVMPtr{Float64, 3}, Tuple{})\u001b[90m::Core.LLVMPtr{Float64, 3}\u001b[39m\n",
       "\u001b[90m└────\u001b[39m        goto #121 if not false\n",
       "\u001b[90m116 ─\u001b[39m %318 = Core.tuple(%307, %310)\u001b[36m::Tuple{Int64, Int64}\u001b[39m\n",
       "\u001b[90m│    \u001b[39m %319 = Base.getfield(%2, :parent)\u001b[36m::CuDeviceMatrix{Float64, 1}\u001b[39m\n",
       "\u001b[90m│    \u001b[39m %320 = Base.getfield(%319, :dims)\u001b[36m::Tuple{Int64, Int64}\u001b[39m\n",
       "\u001b[90m│    \u001b[39m %321 = Base.getfield(%320, 1, true)\u001b[36m::Int64\u001b[39m\n",
       "\u001b[90m│    \u001b[39m %322 = Base.slt_int(%321, 0)\u001b[36m::Bool\u001b[39m\n",
       "\u001b[90m│    \u001b[39m %323 = Base.ifelse(%322, 0, %321)\u001b[36m::Int64\u001b[39m\n",
       "\u001b[90m│    \u001b[39m %324 = Base.getfield(%320, 2, true)\u001b[36m::Int64\u001b[39m\n",
       "\u001b[90m│    \u001b[39m %325 = Base.slt_int(%324, 0)\u001b[36m::Bool\u001b[39m\n",
       "\u001b[90m│    \u001b[39m %326 = Base.ifelse(%325, 0, %324)\u001b[36m::Int64\u001b[39m\n",
       "\u001b[90m│    \u001b[39m %327 = Base.getfield(%2, :offsets)\u001b[36m::Tuple{Int64, Int64}\u001b[39m\n",
       "\u001b[90m│    \u001b[39m %328 = Base.getfield(%327, 1, true)\u001b[36m::Int64\u001b[39m\n",
       "\u001b[90m│    \u001b[39m %329 = Base.getfield(%327, 2, true)\u001b[36m::Int64\u001b[39m\n",
       "\u001b[90m│    \u001b[39m %330 = Base.sub_int(%307, %328)\u001b[36m::Int64\u001b[39m\n",
       "\u001b[90m│    \u001b[39m %331 = Base.sle_int(1, %330)\u001b[36m::Bool\u001b[39m\n",
       "\u001b[90m│    \u001b[39m %332 = Base.sle_int(%330, %323)\u001b[36m::Bool\u001b[39m\n",
       "\u001b[90m│    \u001b[39m %333 = Base.and_int(%331, %332)\u001b[36m::Bool\u001b[39m\n",
       "\u001b[90m│    \u001b[39m %334 = Base.sub_int(%310, %329)\u001b[36m::Int64\u001b[39m\n",
       "\u001b[90m│    \u001b[39m %335 = Base.sle_int(1, %334)\u001b[36m::Bool\u001b[39m\n",
       "\u001b[90m│    \u001b[39m %336 = Base.sle_int(%334, %326)\u001b[36m::Bool\u001b[39m\n",
       "\u001b[90m│    \u001b[39m %337 = Base.and_int(%335, %336)\u001b[36m::Bool\u001b[39m\n",
       "\u001b[90m│    \u001b[39m %338 = Base.and_int(%337, true)\u001b[36m::Bool\u001b[39m\n",
       "\u001b[90m│    \u001b[39m %339 = Base.and_int(%333, %338)\u001b[36m::Bool\u001b[39m\n",
       "\u001b[90m└────\u001b[39m        goto #118 if not %339\n",
       "\u001b[90m117 ─\u001b[39m        goto #120\n",
       "\u001b[90m118 ─\u001b[39m %342 = Base.throw_boundserror\u001b[36m::typeof(Base.throw_boundserror)\u001b[39m\n",
       "\u001b[90m│    \u001b[39m        invoke %342(%2::OffsetMatrix{Float64, CuDeviceMatrix{Float64, 1}}, %318::Tuple{Int64, Int64})\u001b[90m::Union{}\u001b[39m\n",
       "\u001b[90m└────\u001b[39m        unreachable\n",
       "\u001b[90m119 ─\u001b[39m        φ ()\u001b[90m::Union{}\u001b[39m\n",
       "\u001b[90m└────\u001b[39m        unreachable\n",
       "\u001b[90m120 ─\u001b[39m        nothing\u001b[90m::Nothing\u001b[39m\n",
       "\u001b[90m121 ┄\u001b[39m %348 = Base.getfield(%2, :offsets)\u001b[36m::Tuple{Int64, Int64}\u001b[39m\n",
       "\u001b[90m│    \u001b[39m %349 = Base.getfield(%348, 1, true)\u001b[36m::Int64\u001b[39m\n",
       "\u001b[90m│    \u001b[39m %350 = Base.getfield(%348, 2, true)\u001b[36m::Int64\u001b[39m\n",
       "\u001b[90m│    \u001b[39m %351 = Base.sub_int(%307, %349)\u001b[36m::Int64\u001b[39m\n",
       "\u001b[90m│    \u001b[39m %352 = Base.sub_int(%310, %350)\u001b[36m::Int64\u001b[39m\n",
       "\u001b[90m│    \u001b[39m %353 = Base.getfield(%2, :parent)\u001b[36m::CuDeviceMatrix{Float64, 1}\u001b[39m\n",
       "\u001b[90m└────\u001b[39m        goto #127 if not false\n",
       "\u001b[90m122 ─\u001b[39m %355 = Core.tuple(%351, %352)\u001b[36m::Tuple{Int64, Int64}\u001b[39m\n",
       "\u001b[90m│    \u001b[39m %356 = Base.getfield(%353, :dims)\u001b[36m::Tuple{Int64, Int64}\u001b[39m\n",
       "\u001b[90m│    \u001b[39m %357 = Base.getfield(%356, 1, true)\u001b[36m::Int64\u001b[39m\n",
       "\u001b[90m│    \u001b[39m %358 = Base.slt_int(%357, 0)\u001b[36m::Bool\u001b[39m\n",
       "\u001b[90m│    \u001b[39m %359 = Base.ifelse(%358, 0, %357)\u001b[36m::Int64\u001b[39m\n",
       "\u001b[90m│    \u001b[39m %360 = Base.getfield(%356, 2, true)\u001b[36m::Int64\u001b[39m\n",
       "\u001b[90m│    \u001b[39m %361 = Base.slt_int(%360, 0)\u001b[36m::Bool\u001b[39m\n",
       "\u001b[90m│    \u001b[39m %362 = Base.ifelse(%361, 0, %360)\u001b[36m::Int64\u001b[39m\n",
       "\u001b[90m│    \u001b[39m %363 = Base.sle_int(1, %351)\u001b[36m::Bool\u001b[39m\n",
       "\u001b[90m│    \u001b[39m %364 = Base.sle_int(%351, %359)\u001b[36m::Bool\u001b[39m\n",
       "\u001b[90m│    \u001b[39m %365 = Base.and_int(%363, %364)\u001b[36m::Bool\u001b[39m\n",
       "\u001b[90m│    \u001b[39m %366 = Base.sle_int(1, %352)\u001b[36m::Bool\u001b[39m\n",
       "\u001b[90m│    \u001b[39m %367 = Base.sle_int(%352, %362)\u001b[36m::Bool\u001b[39m\n",
       "\u001b[90m│    \u001b[39m %368 = Base.and_int(%366, %367)\u001b[36m::Bool\u001b[39m\n",
       "\u001b[90m│    \u001b[39m %369 = Base.and_int(%368, true)\u001b[36m::Bool\u001b[39m\n",
       "\u001b[90m│    \u001b[39m %370 = Base.and_int(%365, %369)\u001b[36m::Bool\u001b[39m\n",
       "\u001b[90m└────\u001b[39m        goto #124 if not %370\n",
       "\u001b[90m123 ─\u001b[39m        goto #126\n",
       "\u001b[90m124 ─\u001b[39m %373 = Base.throw_boundserror\u001b[36m::typeof(Base.throw_boundserror)\u001b[39m\n",
       "\u001b[90m│    \u001b[39m        invoke %373(%353::CuDeviceMatrix{Float64, 1}, %355::Tuple{Int64, Int64})\u001b[90m::Union{}\u001b[39m\n",
       "\u001b[90m└────\u001b[39m        unreachable\n",
       "\u001b[90m125 ─\u001b[39m        φ ()\u001b[90m::Union{}\u001b[39m\n",
       "\u001b[90m└────\u001b[39m        unreachable\n",
       "\u001b[90m126 ─\u001b[39m        nothing\u001b[90m::Nothing\u001b[39m\n",
       "\u001b[90m127 ┄\u001b[39m %379 = Base.getfield(%353, :dims)\u001b[36m::Tuple{Int64, Int64}\u001b[39m\n",
       "\u001b[90m│    \u001b[39m %380 = Base.getfield(%379, 1, true)\u001b[36m::Int64\u001b[39m\n",
       "\u001b[90m│    \u001b[39m %381 = Base.slt_int(%380, 0)\u001b[36m::Bool\u001b[39m\n",
       "\u001b[90m│    \u001b[39m %382 = Base.ifelse(%381, 0, %380)\u001b[36m::Int64\u001b[39m\n",
       "\u001b[90m│    \u001b[39m %383 = Base.sub_int(%382, 0)\u001b[36m::Int64\u001b[39m\n",
       "\u001b[90m│    \u001b[39m %384 = Base.mul_int(1, %383)\u001b[36m::Int64\u001b[39m\n",
       "\u001b[90m│    \u001b[39m %385 = Base.sub_int(%351, 1)\u001b[36m::Int64\u001b[39m\n",
       "\u001b[90m│    \u001b[39m %386 = Base.mul_int(%385, 1)\u001b[36m::Int64\u001b[39m\n",
       "\u001b[90m│    \u001b[39m %387 = Base.add_int(1, %386)\u001b[36m::Int64\u001b[39m\n",
       "\u001b[90m│    \u001b[39m %388 = Base.sub_int(%352, 1)\u001b[36m::Int64\u001b[39m\n",
       "\u001b[90m│    \u001b[39m %389 = Base.mul_int(%388, %384)\u001b[36m::Int64\u001b[39m\n",
       "\u001b[90m│    \u001b[39m %390 = Base.add_int(%387, %389)\u001b[36m::Int64\u001b[39m\n",
       "\u001b[90m└────\u001b[39m        goto #133 if not false\n",
       "\u001b[90m128 ─\u001b[39m %392 = Core.tuple(%390)\u001b[36m::Tuple{Int64}\u001b[39m\n",
       "\u001b[90m│    \u001b[39m %393 = Base.getfield(%353, :dims)\u001b[36m::Tuple{Int64, Int64}\u001b[39m\n",
       "\u001b[90m│    \u001b[39m %394 = Core.getfield(%393, 1)\u001b[36m::Int64\u001b[39m\n",
       "\u001b[90m│    \u001b[39m %395 = Core.getfield(%393, 2)\u001b[36m::Int64\u001b[39m\n",
       "\u001b[90m│    \u001b[39m %396 = Base.mul_int(%394, %395)\u001b[36m::Int64\u001b[39m\n",
       "\u001b[90m│    \u001b[39m %397 = Base.slt_int(%396, 0)\u001b[36m::Bool\u001b[39m\n",
       "\u001b[90m│    \u001b[39m %398 = Base.ifelse(%397, 0, %396)\u001b[36m::Int64\u001b[39m\n",
       "\u001b[90m│    \u001b[39m %399 = Base.sle_int(1, %390)\u001b[36m::Bool\u001b[39m\n",
       "\u001b[90m│    \u001b[39m %400 = Base.sle_int(%390, %398)\u001b[36m::Bool\u001b[39m\n",
       "\u001b[90m│    \u001b[39m %401 = Base.and_int(%399, %400)\u001b[36m::Bool\u001b[39m\n",
       "\u001b[90m└────\u001b[39m        goto #130 if not %401\n",
       "\u001b[90m129 ─\u001b[39m        goto #132\n",
       "\u001b[90m130 ─\u001b[39m %404 = Base.throw_boundserror\u001b[36m::typeof(Base.throw_boundserror)\u001b[39m\n",
       "\u001b[90m│    \u001b[39m        invoke %404(%353::CuDeviceMatrix{Float64, 1}, %392::Tuple{Int64})\u001b[90m::Union{}\u001b[39m\n",
       "\u001b[90m└────\u001b[39m        unreachable\n",
       "\u001b[90m131 ─\u001b[39m        φ ()\u001b[90m::Union{}\u001b[39m\n",
       "\u001b[90m└────\u001b[39m        unreachable\n",
       "\u001b[90m132 ─\u001b[39m        nothing\u001b[90m::Nothing\u001b[39m\n",
       "\u001b[90m133 ┄\u001b[39m %410 = Base.getfield(%353, :ptr)\u001b[36m::Core.LLVMPtr{Float64, 1}\u001b[39m\n",
       "\u001b[90m│    \u001b[39m %411 = Core.tuple(\"; ModuleID = 'llvmcall'\\nsource_filename = \\\"llvmcall\\\"\\n\\n; Function Attrs: alwaysinline\\ndefine double @entry(i8 addrspace(1)* %0, i64 %1) #0 {\\nentry:\\n  %2 = bitcast i8 addrspace(1)* %0 to double addrspace(1)*\\n  %3 = getelementptr inbounds double, double addrspace(1)* %2, i64 %1\\n  %4 = load double, double addrspace(1)* %3, align 8, !tbaa !0\\n  ret double %4\\n}\\n\\nattributes #0 = { alwaysinline }\\n\\n!0 = !{!1, !1, i64 0, i64 0}\\n!1 = !{!\\\"custom_tbaa_addrspace(1)\\\", !2, i64 0}\\n!2 = !{!\\\"custom_tbaa\\\"}\\n\", \"entry\")\u001b[36m::Tuple{String, String}\u001b[39m\n",
       "\u001b[90m│    \u001b[39m %412 = Base.sub_int(%390, 1)\u001b[36m::Int64\u001b[39m\n",
       "\u001b[90m│    \u001b[39m %413 = Base.llvmcall(%411, Float64, Tuple{Core.LLVMPtr{Float64, 1}, Int64}, %410, %412)\u001b[36m::Float64\u001b[39m\n",
       "\u001b[90m└────\u001b[39m        goto #134\n",
       "\u001b[90m134 ─\u001b[39m        goto #135\n",
       "\u001b[90m135 ─\u001b[39m        goto #136\n",
       "\u001b[90m136 ─\u001b[39m        goto #137\n",
       "\u001b[90m137 ─\u001b[39m        goto #138\n",
       "\u001b[90m138 ─\u001b[39m %419 = Base.sub_int(%307, 1)\u001b[36m::Int64\u001b[39m\n",
       "\u001b[90m└────\u001b[39m        goto #144 if not false\n",
       "\u001b[90m139 ─\u001b[39m %421 = Core.tuple(%419, %310)\u001b[36m::Tuple{Int64, Int64}\u001b[39m\n",
       "\u001b[90m│    \u001b[39m %422 = Base.getfield(%2, :parent)\u001b[36m::CuDeviceMatrix{Float64, 1}\u001b[39m\n",
       "\u001b[90m│    \u001b[39m %423 = Base.getfield(%422, :dims)\u001b[36m::Tuple{Int64, Int64}\u001b[39m\n",
       "\u001b[90m│    \u001b[39m %424 = Base.getfield(%423, 1, true)\u001b[36m::Int64\u001b[39m\n",
       "\u001b[90m│    \u001b[39m %425 = Base.slt_int(%424, 0)\u001b[36m::Bool\u001b[39m\n",
       "\u001b[90m│    \u001b[39m %426 = Base.ifelse(%425, 0, %424)\u001b[36m::Int64\u001b[39m\n",
       "\u001b[90m│    \u001b[39m %427 = Base.getfield(%423, 2, true)\u001b[36m::Int64\u001b[39m\n",
       "\u001b[90m│    \u001b[39m %428 = Base.slt_int(%427, 0)\u001b[36m::Bool\u001b[39m\n",
       "\u001b[90m│    \u001b[39m %429 = Base.ifelse(%428, 0, %427)\u001b[36m::Int64\u001b[39m\n",
       "\u001b[90m│    \u001b[39m %430 = Base.getfield(%2, :offsets)\u001b[36m::Tuple{Int64, Int64}\u001b[39m\n",
       "\u001b[90m│    \u001b[39m %431 = Base.getfield(%430, 1, true)\u001b[36m::Int64\u001b[39m\n",
       "\u001b[90m│    \u001b[39m %432 = Base.getfield(%430, 2, true)\u001b[36m::Int64\u001b[39m\n",
       "\u001b[90m│    \u001b[39m %433 = Base.sub_int(%419, %431)\u001b[36m::Int64\u001b[39m\n",
       "\u001b[90m│    \u001b[39m %434 = Base.sle_int(1, %433)\u001b[36m::Bool\u001b[39m\n",
       "\u001b[90m│    \u001b[39m %435 = Base.sle_int(%433, %426)\u001b[36m::Bool\u001b[39m\n",
       "\u001b[90m│    \u001b[39m %436 = Base.and_int(%434, %435)\u001b[36m::Bool\u001b[39m\n",
       "\u001b[90m│    \u001b[39m %437 = Base.sub_int(%310, %432)\u001b[36m::Int64\u001b[39m\n",
       "\u001b[90m│    \u001b[39m %438 = Base.sle_int(1, %437)\u001b[36m::Bool\u001b[39m\n",
       "\u001b[90m│    \u001b[39m %439 = Base.sle_int(%437, %429)\u001b[36m::Bool\u001b[39m\n",
       "\u001b[90m│    \u001b[39m %440 = Base.and_int(%438, %439)\u001b[36m::Bool\u001b[39m\n",
       "\u001b[90m│    \u001b[39m %441 = Base.and_int(%440, true)\u001b[36m::Bool\u001b[39m\n",
       "\u001b[90m│    \u001b[39m %442 = Base.and_int(%436, %441)\u001b[36m::Bool\u001b[39m\n",
       "\u001b[90m└────\u001b[39m        goto #141 if not %442\n",
       "\u001b[90m140 ─\u001b[39m        goto #143\n",
       "\u001b[90m141 ─\u001b[39m %445 = Base.throw_boundserror\u001b[36m::typeof(Base.throw_boundserror)\u001b[39m\n",
       "\u001b[90m│    \u001b[39m        invoke %445(%2::OffsetMatrix{Float64, CuDeviceMatrix{Float64, 1}}, %421::Tuple{Int64, Int64})\u001b[90m::Union{}\u001b[39m\n",
       "\u001b[90m└────\u001b[39m        unreachable\n",
       "\u001b[90m142 ─\u001b[39m        φ ()\u001b[90m::Union{}\u001b[39m\n",
       "\u001b[90m└────\u001b[39m        unreachable\n",
       "\u001b[90m143 ─\u001b[39m        nothing\u001b[90m::Nothing\u001b[39m\n",
       "\u001b[90m144 ┄\u001b[39m %451 = Base.getfield(%2, :offsets)\u001b[36m::Tuple{Int64, Int64}\u001b[39m\n",
       "\u001b[90m│    \u001b[39m %452 = Base.getfield(%451, 1, true)\u001b[36m::Int64\u001b[39m\n",
       "\u001b[90m│    \u001b[39m %453 = Base.getfield(%451, 2, true)\u001b[36m::Int64\u001b[39m\n",
       "\u001b[90m│    \u001b[39m %454 = Base.sub_int(%419, %452)\u001b[36m::Int64\u001b[39m\n",
       "\u001b[90m│    \u001b[39m %455 = Base.sub_int(%310, %453)\u001b[36m::Int64\u001b[39m\n",
       "\u001b[90m│    \u001b[39m %456 = Base.getfield(%2, :parent)\u001b[36m::CuDeviceMatrix{Float64, 1}\u001b[39m\n",
       "\u001b[90m└────\u001b[39m        goto #150 if not false\n",
       "\u001b[90m145 ─\u001b[39m %458 = Core.tuple(%454, %455)\u001b[36m::Tuple{Int64, Int64}\u001b[39m\n",
       "\u001b[90m│    \u001b[39m %459 = Base.getfield(%456, :dims)\u001b[36m::Tuple{Int64, Int64}\u001b[39m\n",
       "\u001b[90m│    \u001b[39m %460 = Base.getfield(%459, 1, true)\u001b[36m::Int64\u001b[39m\n",
       "\u001b[90m│    \u001b[39m %461 = Base.slt_int(%460, 0)\u001b[36m::Bool\u001b[39m\n",
       "\u001b[90m│    \u001b[39m %462 = Base.ifelse(%461, 0, %460)\u001b[36m::Int64\u001b[39m\n",
       "\u001b[90m│    \u001b[39m %463 = Base.getfield(%459, 2, true)\u001b[36m::Int64\u001b[39m\n",
       "\u001b[90m│    \u001b[39m %464 = Base.slt_int(%463, 0)\u001b[36m::Bool\u001b[39m\n",
       "\u001b[90m│    \u001b[39m %465 = Base.ifelse(%464, 0, %463)\u001b[36m::Int64\u001b[39m\n",
       "\u001b[90m│    \u001b[39m %466 = Base.sle_int(1, %454)\u001b[36m::Bool\u001b[39m\n",
       "\u001b[90m│    \u001b[39m %467 = Base.sle_int(%454, %462)\u001b[36m::Bool\u001b[39m\n",
       "\u001b[90m│    \u001b[39m %468 = Base.and_int(%466, %467)\u001b[36m::Bool\u001b[39m\n",
       "\u001b[90m│    \u001b[39m %469 = Base.sle_int(1, %455)\u001b[36m::Bool\u001b[39m\n",
       "\u001b[90m│    \u001b[39m %470 = Base.sle_int(%455, %465)\u001b[36m::Bool\u001b[39m\n",
       "\u001b[90m│    \u001b[39m %471 = Base.and_int(%469, %470)\u001b[36m::Bool\u001b[39m\n",
       "\u001b[90m│    \u001b[39m %472 = Base.and_int(%471, true)\u001b[36m::Bool\u001b[39m\n",
       "\u001b[90m│    \u001b[39m %473 = Base.and_int(%468, %472)\u001b[36m::Bool\u001b[39m\n",
       "\u001b[90m└────\u001b[39m        goto #147 if not %473\n",
       "\u001b[90m146 ─\u001b[39m        goto #149\n",
       "\u001b[90m147 ─\u001b[39m %476 = Base.throw_boundserror\u001b[36m::typeof(Base.throw_boundserror)\u001b[39m\n",
       "\u001b[90m│    \u001b[39m        invoke %476(%456::CuDeviceMatrix{Float64, 1}, %458::Tuple{Int64, Int64})\u001b[90m::Union{}\u001b[39m\n",
       "\u001b[90m└────\u001b[39m        unreachable\n",
       "\u001b[90m148 ─\u001b[39m        φ ()\u001b[90m::Union{}\u001b[39m\n",
       "\u001b[90m└────\u001b[39m        unreachable\n",
       "\u001b[90m149 ─\u001b[39m        nothing\u001b[90m::Nothing\u001b[39m\n",
       "\u001b[90m150 ┄\u001b[39m %482 = Base.getfield(%456, :dims)\u001b[36m::Tuple{Int64, Int64}\u001b[39m\n",
       "\u001b[90m│    \u001b[39m %483 = Base.getfield(%482, 1, true)\u001b[36m::Int64\u001b[39m\n",
       "\u001b[90m│    \u001b[39m %484 = Base.slt_int(%483, 0)\u001b[36m::Bool\u001b[39m\n",
       "\u001b[90m│    \u001b[39m %485 = Base.ifelse(%484, 0, %483)\u001b[36m::Int64\u001b[39m\n",
       "\u001b[90m│    \u001b[39m %486 = Base.sub_int(%485, 0)\u001b[36m::Int64\u001b[39m\n",
       "\u001b[90m│    \u001b[39m %487 = Base.mul_int(1, %486)\u001b[36m::Int64\u001b[39m\n",
       "\u001b[90m│    \u001b[39m %488 = Base.sub_int(%454, 1)\u001b[36m::Int64\u001b[39m\n",
       "\u001b[90m│    \u001b[39m %489 = Base.mul_int(%488, 1)\u001b[36m::Int64\u001b[39m\n",
       "\u001b[90m│    \u001b[39m %490 = Base.add_int(1, %489)\u001b[36m::Int64\u001b[39m\n",
       "\u001b[90m│    \u001b[39m %491 = Base.sub_int(%455, 1)\u001b[36m::Int64\u001b[39m\n",
       "\u001b[90m│    \u001b[39m %492 = Base.mul_int(%491, %487)\u001b[36m::Int64\u001b[39m\n",
       "\u001b[90m│    \u001b[39m %493 = Base.add_int(%490, %492)\u001b[36m::Int64\u001b[39m\n",
       "\u001b[90m└────\u001b[39m        goto #156 if not false\n",
       "\u001b[90m151 ─\u001b[39m %495 = Core.tuple(%493)\u001b[36m::Tuple{Int64}\u001b[39m\n",
       "\u001b[90m│    \u001b[39m %496 = Base.getfield(%456, :dims)\u001b[36m::Tuple{Int64, Int64}\u001b[39m\n",
       "\u001b[90m│    \u001b[39m %497 = Core.getfield(%496, 1)\u001b[36m::Int64\u001b[39m\n",
       "\u001b[90m│    \u001b[39m %498 = Core.getfield(%496, 2)\u001b[36m::Int64\u001b[39m\n",
       "\u001b[90m│    \u001b[39m %499 = Base.mul_int(%497, %498)\u001b[36m::Int64\u001b[39m\n",
       "\u001b[90m│    \u001b[39m %500 = Base.slt_int(%499, 0)\u001b[36m::Bool\u001b[39m\n",
       "\u001b[90m│    \u001b[39m %501 = Base.ifelse(%500, 0, %499)\u001b[36m::Int64\u001b[39m\n",
       "\u001b[90m│    \u001b[39m %502 = Base.sle_int(1, %493)\u001b[36m::Bool\u001b[39m\n",
       "\u001b[90m│    \u001b[39m %503 = Base.sle_int(%493, %501)\u001b[36m::Bool\u001b[39m\n",
       "\u001b[90m│    \u001b[39m %504 = Base.and_int(%502, %503)\u001b[36m::Bool\u001b[39m\n",
       "\u001b[90m└────\u001b[39m        goto #153 if not %504\n",
       "\u001b[90m152 ─\u001b[39m        goto #155\n",
       "\u001b[90m153 ─\u001b[39m %507 = Base.throw_boundserror\u001b[36m::typeof(Base.throw_boundserror)\u001b[39m\n",
       "\u001b[90m│    \u001b[39m        invoke %507(%456::CuDeviceMatrix{Float64, 1}, %495::Tuple{Int64})\u001b[90m::Union{}\u001b[39m\n",
       "\u001b[90m└────\u001b[39m        unreachable\n",
       "\u001b[90m154 ─\u001b[39m        φ ()\u001b[90m::Union{}\u001b[39m\n",
       "\u001b[90m└────\u001b[39m        unreachable\n",
       "\u001b[90m155 ─\u001b[39m        nothing\u001b[90m::Nothing\u001b[39m\n",
       "\u001b[90m156 ┄\u001b[39m %513 = Base.getfield(%456, :ptr)\u001b[36m::Core.LLVMPtr{Float64, 1}\u001b[39m\n",
       "\u001b[90m│    \u001b[39m %514 = Core.tuple(\"; ModuleID = 'llvmcall'\\nsource_filename = \\\"llvmcall\\\"\\n\\n; Function Attrs: alwaysinline\\ndefine double @entry(i8 addrspace(1)* %0, i64 %1) #0 {\\nentry:\\n  %2 = bitcast i8 addrspace(1)* %0 to double addrspace(1)*\\n  %3 = getelementptr inbounds double, double addrspace(1)* %2, i64 %1\\n  %4 = load double, double addrspace(1)* %3, align 8, !tbaa !0\\n  ret double %4\\n}\\n\\nattributes #0 = { alwaysinline }\\n\\n!0 = !{!1, !1, i64 0, i64 0}\\n!1 = !{!\\\"custom_tbaa_addrspace(1)\\\", !2, i64 0}\\n!2 = !{!\\\"custom_tbaa\\\"}\\n\", \"entry\")\u001b[36m::Tuple{String, String}\u001b[39m\n",
       "\u001b[90m│    \u001b[39m %515 = Base.sub_int(%493, 1)\u001b[36m::Int64\u001b[39m\n",
       "\u001b[90m│    \u001b[39m %516 = Base.llvmcall(%514, Float64, Tuple{Core.LLVMPtr{Float64, 1}, Int64}, %513, %515)\u001b[36m::Float64\u001b[39m\n",
       "\u001b[90m└────\u001b[39m        goto #157\n",
       "\u001b[90m157 ─\u001b[39m        goto #158\n",
       "\u001b[90m158 ─\u001b[39m        goto #159\n",
       "\u001b[90m159 ─\u001b[39m        goto #160\n",
       "\u001b[90m160 ─\u001b[39m        goto #161\n",
       "\u001b[90m161 ─\u001b[39m %522 = Base.sub_int(%310, 1)\u001b[36m::Int64\u001b[39m\n",
       "\u001b[90m└────\u001b[39m        goto #167 if not false\n",
       "\u001b[90m162 ─\u001b[39m %524 = Core.tuple(%307, %522)\u001b[36m::Tuple{Int64, Int64}\u001b[39m\n",
       "\u001b[90m│    \u001b[39m %525 = Base.getfield(%2, :parent)\u001b[36m::CuDeviceMatrix{Float64, 1}\u001b[39m\n",
       "\u001b[90m│    \u001b[39m %526 = Base.getfield(%525, :dims)\u001b[36m::Tuple{Int64, Int64}\u001b[39m\n",
       "\u001b[90m│    \u001b[39m %527 = Base.getfield(%526, 1, true)\u001b[36m::Int64\u001b[39m\n",
       "\u001b[90m│    \u001b[39m %528 = Base.slt_int(%527, 0)\u001b[36m::Bool\u001b[39m\n",
       "\u001b[90m│    \u001b[39m %529 = Base.ifelse(%528, 0, %527)\u001b[36m::Int64\u001b[39m\n",
       "\u001b[90m│    \u001b[39m %530 = Base.getfield(%526, 2, true)\u001b[36m::Int64\u001b[39m\n",
       "\u001b[90m│    \u001b[39m %531 = Base.slt_int(%530, 0)\u001b[36m::Bool\u001b[39m\n",
       "\u001b[90m│    \u001b[39m %532 = Base.ifelse(%531, 0, %530)\u001b[36m::Int64\u001b[39m\n",
       "\u001b[90m│    \u001b[39m %533 = Base.getfield(%2, :offsets)\u001b[36m::Tuple{Int64, Int64}\u001b[39m\n",
       "\u001b[90m│    \u001b[39m %534 = Base.getfield(%533, 1, true)\u001b[36m::Int64\u001b[39m\n",
       "\u001b[90m│    \u001b[39m %535 = Base.getfield(%533, 2, true)\u001b[36m::Int64\u001b[39m\n",
       "\u001b[90m│    \u001b[39m %536 = Base.sub_int(%307, %534)\u001b[36m::Int64\u001b[39m\n",
       "\u001b[90m│    \u001b[39m %537 = Base.sle_int(1, %536)\u001b[36m::Bool\u001b[39m\n",
       "\u001b[90m│    \u001b[39m %538 = Base.sle_int(%536, %529)\u001b[36m::Bool\u001b[39m\n",
       "\u001b[90m│    \u001b[39m %539 = Base.and_int(%537, %538)\u001b[36m::Bool\u001b[39m\n",
       "\u001b[90m│    \u001b[39m %540 = Base.sub_int(%522, %535)\u001b[36m::Int64\u001b[39m\n",
       "\u001b[90m│    \u001b[39m %541 = Base.sle_int(1, %540)\u001b[36m::Bool\u001b[39m\n",
       "\u001b[90m│    \u001b[39m %542 = Base.sle_int(%540, %532)\u001b[36m::Bool\u001b[39m\n",
       "\u001b[90m│    \u001b[39m %543 = Base.and_int(%541, %542)\u001b[36m::Bool\u001b[39m\n",
       "\u001b[90m│    \u001b[39m %544 = Base.and_int(%543, true)\u001b[36m::Bool\u001b[39m\n",
       "\u001b[90m│    \u001b[39m %545 = Base.and_int(%539, %544)\u001b[36m::Bool\u001b[39m\n",
       "\u001b[90m└────\u001b[39m        goto #164 if not %545\n",
       "\u001b[90m163 ─\u001b[39m        goto #166\n",
       "\u001b[90m164 ─\u001b[39m %548 = Base.throw_boundserror\u001b[36m::typeof(Base.throw_boundserror)\u001b[39m\n",
       "\u001b[90m│    \u001b[39m        invoke %548(%2::OffsetMatrix{Float64, CuDeviceMatrix{Float64, 1}}, %524::Tuple{Int64, Int64})\u001b[90m::Union{}\u001b[39m\n",
       "\u001b[90m└────\u001b[39m        unreachable\n",
       "\u001b[90m165 ─\u001b[39m        φ ()\u001b[90m::Union{}\u001b[39m\n",
       "\u001b[90m└────\u001b[39m        unreachable\n",
       "\u001b[90m166 ─\u001b[39m        nothing\u001b[90m::Nothing\u001b[39m\n",
       "\u001b[90m167 ┄\u001b[39m %554 = Base.getfield(%2, :offsets)\u001b[36m::Tuple{Int64, Int64}\u001b[39m\n",
       "\u001b[90m│    \u001b[39m %555 = Base.getfield(%554, 1, true)\u001b[36m::Int64\u001b[39m\n",
       "\u001b[90m│    \u001b[39m %556 = Base.getfield(%554, 2, true)\u001b[36m::Int64\u001b[39m\n",
       "\u001b[90m│    \u001b[39m %557 = Base.sub_int(%307, %555)\u001b[36m::Int64\u001b[39m\n",
       "\u001b[90m│    \u001b[39m %558 = Base.sub_int(%522, %556)\u001b[36m::Int64\u001b[39m\n",
       "\u001b[90m│    \u001b[39m %559 = Base.getfield(%2, :parent)\u001b[36m::CuDeviceMatrix{Float64, 1}\u001b[39m\n",
       "\u001b[90m└────\u001b[39m        goto #173 if not false\n",
       "\u001b[90m168 ─\u001b[39m %561 = Core.tuple(%557, %558)\u001b[36m::Tuple{Int64, Int64}\u001b[39m\n",
       "\u001b[90m│    \u001b[39m %562 = Base.getfield(%559, :dims)\u001b[36m::Tuple{Int64, Int64}\u001b[39m\n",
       "\u001b[90m│    \u001b[39m %563 = Base.getfield(%562, 1, true)\u001b[36m::Int64\u001b[39m\n",
       "\u001b[90m│    \u001b[39m %564 = Base.slt_int(%563, 0)\u001b[36m::Bool\u001b[39m\n",
       "\u001b[90m│    \u001b[39m %565 = Base.ifelse(%564, 0, %563)\u001b[36m::Int64\u001b[39m\n",
       "\u001b[90m│    \u001b[39m %566 = Base.getfield(%562, 2, true)\u001b[36m::Int64\u001b[39m\n",
       "\u001b[90m│    \u001b[39m %567 = Base.slt_int(%566, 0)\u001b[36m::Bool\u001b[39m\n",
       "\u001b[90m│    \u001b[39m %568 = Base.ifelse(%567, 0, %566)\u001b[36m::Int64\u001b[39m\n",
       "\u001b[90m│    \u001b[39m %569 = Base.sle_int(1, %557)\u001b[36m::Bool\u001b[39m\n",
       "\u001b[90m│    \u001b[39m %570 = Base.sle_int(%557, %565)\u001b[36m::Bool\u001b[39m\n",
       "\u001b[90m│    \u001b[39m %571 = Base.and_int(%569, %570)\u001b[36m::Bool\u001b[39m\n",
       "\u001b[90m│    \u001b[39m %572 = Base.sle_int(1, %558)\u001b[36m::Bool\u001b[39m\n",
       "\u001b[90m│    \u001b[39m %573 = Base.sle_int(%558, %568)\u001b[36m::Bool\u001b[39m\n",
       "\u001b[90m│    \u001b[39m %574 = Base.and_int(%572, %573)\u001b[36m::Bool\u001b[39m\n",
       "\u001b[90m│    \u001b[39m %575 = Base.and_int(%574, true)\u001b[36m::Bool\u001b[39m\n",
       "\u001b[90m│    \u001b[39m %576 = Base.and_int(%571, %575)\u001b[36m::Bool\u001b[39m\n",
       "\u001b[90m└────\u001b[39m        goto #170 if not %576\n",
       "\u001b[90m169 ─\u001b[39m        goto #172\n",
       "\u001b[90m170 ─\u001b[39m %579 = Base.throw_boundserror\u001b[36m::typeof(Base.throw_boundserror)\u001b[39m\n",
       "\u001b[90m│    \u001b[39m        invoke %579(%559::CuDeviceMatrix{Float64, 1}, %561::Tuple{Int64, Int64})\u001b[90m::Union{}\u001b[39m\n",
       "\u001b[90m└────\u001b[39m        unreachable\n",
       "\u001b[90m171 ─\u001b[39m        φ ()\u001b[90m::Union{}\u001b[39m\n",
       "\u001b[90m└────\u001b[39m        unreachable\n",
       "\u001b[90m172 ─\u001b[39m        nothing\u001b[90m::Nothing\u001b[39m\n",
       "\u001b[90m173 ┄\u001b[39m %585 = Base.getfield(%559, :dims)\u001b[36m::Tuple{Int64, Int64}\u001b[39m\n",
       "\u001b[90m│    \u001b[39m %586 = Base.getfield(%585, 1, true)\u001b[36m::Int64\u001b[39m\n",
       "\u001b[90m│    \u001b[39m %587 = Base.slt_int(%586, 0)\u001b[36m::Bool\u001b[39m\n",
       "\u001b[90m│    \u001b[39m %588 = Base.ifelse(%587, 0, %586)\u001b[36m::Int64\u001b[39m\n",
       "\u001b[90m│    \u001b[39m %589 = Base.sub_int(%588, 0)\u001b[36m::Int64\u001b[39m\n",
       "\u001b[90m│    \u001b[39m %590 = Base.mul_int(1, %589)\u001b[36m::Int64\u001b[39m\n",
       "\u001b[90m│    \u001b[39m %591 = Base.sub_int(%557, 1)\u001b[36m::Int64\u001b[39m\n",
       "\u001b[90m│    \u001b[39m %592 = Base.mul_int(%591, 1)\u001b[36m::Int64\u001b[39m\n",
       "\u001b[90m│    \u001b[39m %593 = Base.add_int(1, %592)\u001b[36m::Int64\u001b[39m\n",
       "\u001b[90m│    \u001b[39m %594 = Base.sub_int(%558, 1)\u001b[36m::Int64\u001b[39m\n",
       "\u001b[90m│    \u001b[39m %595 = Base.mul_int(%594, %590)\u001b[36m::Int64\u001b[39m\n",
       "\u001b[90m│    \u001b[39m %596 = Base.add_int(%593, %595)\u001b[36m::Int64\u001b[39m\n",
       "\u001b[90m└────\u001b[39m        goto #179 if not false\n",
       "\u001b[90m174 ─\u001b[39m %598 = Core.tuple(%596)\u001b[36m::Tuple{Int64}\u001b[39m\n",
       "\u001b[90m│    \u001b[39m %599 = Base.getfield(%559, :dims)\u001b[36m::Tuple{Int64, Int64}\u001b[39m\n",
       "\u001b[90m│    \u001b[39m %600 = Core.getfield(%599, 1)\u001b[36m::Int64\u001b[39m\n",
       "\u001b[90m│    \u001b[39m %601 = Core.getfield(%599, 2)\u001b[36m::Int64\u001b[39m\n",
       "\u001b[90m│    \u001b[39m %602 = Base.mul_int(%600, %601)\u001b[36m::Int64\u001b[39m\n",
       "\u001b[90m│    \u001b[39m %603 = Base.slt_int(%602, 0)\u001b[36m::Bool\u001b[39m\n",
       "\u001b[90m│    \u001b[39m %604 = Base.ifelse(%603, 0, %602)\u001b[36m::Int64\u001b[39m\n",
       "\u001b[90m│    \u001b[39m %605 = Base.sle_int(1, %596)\u001b[36m::Bool\u001b[39m\n",
       "\u001b[90m│    \u001b[39m %606 = Base.sle_int(%596, %604)\u001b[36m::Bool\u001b[39m\n",
       "\u001b[90m│    \u001b[39m %607 = Base.and_int(%605, %606)\u001b[36m::Bool\u001b[39m\n",
       "\u001b[90m└────\u001b[39m        goto #176 if not %607\n",
       "\u001b[90m175 ─\u001b[39m        goto #178\n",
       "\u001b[90m176 ─\u001b[39m %610 = Base.throw_boundserror\u001b[36m::typeof(Base.throw_boundserror)\u001b[39m\n",
       "\u001b[90m│    \u001b[39m        invoke %610(%559::CuDeviceMatrix{Float64, 1}, %598::Tuple{Int64})\u001b[90m::Union{}\u001b[39m\n",
       "\u001b[90m└────\u001b[39m        unreachable\n",
       "\u001b[90m177 ─\u001b[39m        φ ()\u001b[90m::Union{}\u001b[39m\n",
       "\u001b[90m└────\u001b[39m        unreachable\n",
       "\u001b[90m178 ─\u001b[39m        nothing\u001b[90m::Nothing\u001b[39m\n",
       "\u001b[90m179 ┄\u001b[39m %616 = Base.getfield(%559, :ptr)\u001b[36m::Core.LLVMPtr{Float64, 1}\u001b[39m\n",
       "\u001b[90m│    \u001b[39m %617 = Core.tuple(\"; ModuleID = 'llvmcall'\\nsource_filename = \\\"llvmcall\\\"\\n\\n; Function Attrs: alwaysinline\\ndefine double @entry(i8 addrspace(1)* %0, i64 %1) #0 {\\nentry:\\n  %2 = bitcast i8 addrspace(1)* %0 to double addrspace(1)*\\n  %3 = getelementptr inbounds double, double addrspace(1)* %2, i64 %1\\n  %4 = load double, double addrspace(1)* %3, align 8, !tbaa !0\\n  ret double %4\\n}\\n\\nattributes #0 = { alwaysinline }\\n\\n!0 = !{!1, !1, i64 0, i64 0}\\n!1 = !{!\\\"custom_tbaa_addrspace(1)\\\", !2, i64 0}\\n!2 = !{!\\\"custom_tbaa\\\"}\\n\", \"entry\")\u001b[36m::Tuple{String, String}\u001b[39m\n",
       "\u001b[90m│    \u001b[39m %618 = Base.sub_int(%596, 1)\u001b[36m::Int64\u001b[39m\n",
       "\u001b[90m│    \u001b[39m %619 = Base.llvmcall(%617, Float64, Tuple{Core.LLVMPtr{Float64, 1}, Int64}, %616, %618)\u001b[36m::Float64\u001b[39m\n",
       "\u001b[90m└────\u001b[39m        goto #180\n",
       "\u001b[90m180 ─\u001b[39m        goto #181\n",
       "\u001b[90m181 ─\u001b[39m        goto #182\n",
       "\u001b[90m182 ─\u001b[39m        goto #183\n",
       "\u001b[90m183 ─\u001b[39m        goto #184\n",
       "\u001b[90m184 ─\u001b[39m %625 = Base.add_int(%307, 1)\u001b[36m::Int64\u001b[39m\n",
       "\u001b[90m└────\u001b[39m        goto #190 if not false\n",
       "\u001b[90m185 ─\u001b[39m %627 = Core.tuple(%625, %310)\u001b[36m::Tuple{Int64, Int64}\u001b[39m\n",
       "\u001b[90m│    \u001b[39m %628 = Base.getfield(%2, :parent)\u001b[36m::CuDeviceMatrix{Float64, 1}\u001b[39m\n",
       "\u001b[90m│    \u001b[39m %629 = Base.getfield(%628, :dims)\u001b[36m::Tuple{Int64, Int64}\u001b[39m\n",
       "\u001b[90m│    \u001b[39m %630 = Base.getfield(%629, 1, true)\u001b[36m::Int64\u001b[39m\n",
       "\u001b[90m│    \u001b[39m %631 = Base.slt_int(%630, 0)\u001b[36m::Bool\u001b[39m\n",
       "\u001b[90m│    \u001b[39m %632 = Base.ifelse(%631, 0, %630)\u001b[36m::Int64\u001b[39m\n",
       "\u001b[90m│    \u001b[39m %633 = Base.getfield(%629, 2, true)\u001b[36m::Int64\u001b[39m\n",
       "\u001b[90m│    \u001b[39m %634 = Base.slt_int(%633, 0)\u001b[36m::Bool\u001b[39m\n",
       "\u001b[90m│    \u001b[39m %635 = Base.ifelse(%634, 0, %633)\u001b[36m::Int64\u001b[39m\n",
       "\u001b[90m│    \u001b[39m %636 = Base.getfield(%2, :offsets)\u001b[36m::Tuple{Int64, Int64}\u001b[39m\n",
       "\u001b[90m│    \u001b[39m %637 = Base.getfield(%636, 1, true)\u001b[36m::Int64\u001b[39m\n",
       "\u001b[90m│    \u001b[39m %638 = Base.getfield(%636, 2, true)\u001b[36m::Int64\u001b[39m\n",
       "\u001b[90m│    \u001b[39m %639 = Base.sub_int(%625, %637)\u001b[36m::Int64\u001b[39m\n",
       "\u001b[90m│    \u001b[39m %640 = Base.sle_int(1, %639)\u001b[36m::Bool\u001b[39m\n",
       "\u001b[90m│    \u001b[39m %641 = Base.sle_int(%639, %632)\u001b[36m::Bool\u001b[39m\n",
       "\u001b[90m│    \u001b[39m %642 = Base.and_int(%640, %641)\u001b[36m::Bool\u001b[39m\n",
       "\u001b[90m│    \u001b[39m %643 = Base.sub_int(%310, %638)\u001b[36m::Int64\u001b[39m\n",
       "\u001b[90m│    \u001b[39m %644 = Base.sle_int(1, %643)\u001b[36m::Bool\u001b[39m\n",
       "\u001b[90m│    \u001b[39m %645 = Base.sle_int(%643, %635)\u001b[36m::Bool\u001b[39m\n",
       "\u001b[90m│    \u001b[39m %646 = Base.and_int(%644, %645)\u001b[36m::Bool\u001b[39m\n",
       "\u001b[90m│    \u001b[39m %647 = Base.and_int(%646, true)\u001b[36m::Bool\u001b[39m\n",
       "\u001b[90m│    \u001b[39m %648 = Base.and_int(%642, %647)\u001b[36m::Bool\u001b[39m\n",
       "\u001b[90m└────\u001b[39m        goto #187 if not %648\n",
       "\u001b[90m186 ─\u001b[39m        goto #189\n",
       "\u001b[90m187 ─\u001b[39m %651 = Base.throw_boundserror\u001b[36m::typeof(Base.throw_boundserror)\u001b[39m\n",
       "\u001b[90m│    \u001b[39m        invoke %651(%2::OffsetMatrix{Float64, CuDeviceMatrix{Float64, 1}}, %627::Tuple{Int64, Int64})\u001b[90m::Union{}\u001b[39m\n",
       "\u001b[90m└────\u001b[39m        unreachable\n",
       "\u001b[90m188 ─\u001b[39m        φ ()\u001b[90m::Union{}\u001b[39m\n",
       "\u001b[90m└────\u001b[39m        unreachable\n",
       "\u001b[90m189 ─\u001b[39m        nothing\u001b[90m::Nothing\u001b[39m\n",
       "\u001b[90m190 ┄\u001b[39m %657 = Base.getfield(%2, :offsets)\u001b[36m::Tuple{Int64, Int64}\u001b[39m\n",
       "\u001b[90m│    \u001b[39m %658 = Base.getfield(%657, 1, true)\u001b[36m::Int64\u001b[39m\n",
       "\u001b[90m│    \u001b[39m %659 = Base.getfield(%657, 2, true)\u001b[36m::Int64\u001b[39m\n",
       "\u001b[90m│    \u001b[39m %660 = Base.sub_int(%625, %658)\u001b[36m::Int64\u001b[39m\n",
       "\u001b[90m│    \u001b[39m %661 = Base.sub_int(%310, %659)\u001b[36m::Int64\u001b[39m\n",
       "\u001b[90m│    \u001b[39m %662 = Base.getfield(%2, :parent)\u001b[36m::CuDeviceMatrix{Float64, 1}\u001b[39m\n",
       "\u001b[90m└────\u001b[39m        goto #196 if not false\n",
       "\u001b[90m191 ─\u001b[39m %664 = Core.tuple(%660, %661)\u001b[36m::Tuple{Int64, Int64}\u001b[39m\n",
       "\u001b[90m│    \u001b[39m %665 = Base.getfield(%662, :dims)\u001b[36m::Tuple{Int64, Int64}\u001b[39m\n",
       "\u001b[90m│    \u001b[39m %666 = Base.getfield(%665, 1, true)\u001b[36m::Int64\u001b[39m\n",
       "\u001b[90m│    \u001b[39m %667 = Base.slt_int(%666, 0)\u001b[36m::Bool\u001b[39m\n",
       "\u001b[90m│    \u001b[39m %668 = Base.ifelse(%667, 0, %666)\u001b[36m::Int64\u001b[39m\n",
       "\u001b[90m│    \u001b[39m %669 = Base.getfield(%665, 2, true)\u001b[36m::Int64\u001b[39m\n",
       "\u001b[90m│    \u001b[39m %670 = Base.slt_int(%669, 0)\u001b[36m::Bool\u001b[39m\n",
       "\u001b[90m│    \u001b[39m %671 = Base.ifelse(%670, 0, %669)\u001b[36m::Int64\u001b[39m\n",
       "\u001b[90m│    \u001b[39m %672 = Base.sle_int(1, %660)\u001b[36m::Bool\u001b[39m\n",
       "\u001b[90m│    \u001b[39m %673 = Base.sle_int(%660, %668)\u001b[36m::Bool\u001b[39m\n",
       "\u001b[90m│    \u001b[39m %674 = Base.and_int(%672, %673)\u001b[36m::Bool\u001b[39m\n",
       "\u001b[90m│    \u001b[39m %675 = Base.sle_int(1, %661)\u001b[36m::Bool\u001b[39m\n",
       "\u001b[90m│    \u001b[39m %676 = Base.sle_int(%661, %671)\u001b[36m::Bool\u001b[39m\n",
       "\u001b[90m│    \u001b[39m %677 = Base.and_int(%675, %676)\u001b[36m::Bool\u001b[39m\n",
       "\u001b[90m│    \u001b[39m %678 = Base.and_int(%677, true)\u001b[36m::Bool\u001b[39m\n",
       "\u001b[90m│    \u001b[39m %679 = Base.and_int(%674, %678)\u001b[36m::Bool\u001b[39m\n",
       "\u001b[90m└────\u001b[39m        goto #193 if not %679\n",
       "\u001b[90m192 ─\u001b[39m        goto #195\n",
       "\u001b[90m193 ─\u001b[39m %682 = Base.throw_boundserror\u001b[36m::typeof(Base.throw_boundserror)\u001b[39m\n",
       "\u001b[90m│    \u001b[39m        invoke %682(%662::CuDeviceMatrix{Float64, 1}, %664::Tuple{Int64, Int64})\u001b[90m::Union{}\u001b[39m\n",
       "\u001b[90m└────\u001b[39m        unreachable\n",
       "\u001b[90m194 ─\u001b[39m        φ ()\u001b[90m::Union{}\u001b[39m\n",
       "\u001b[90m└────\u001b[39m        unreachable\n",
       "\u001b[90m195 ─\u001b[39m        nothing\u001b[90m::Nothing\u001b[39m\n",
       "\u001b[90m196 ┄\u001b[39m %688 = Base.getfield(%662, :dims)\u001b[36m::Tuple{Int64, Int64}\u001b[39m\n",
       "\u001b[90m│    \u001b[39m %689 = Base.getfield(%688, 1, true)\u001b[36m::Int64\u001b[39m\n",
       "\u001b[90m│    \u001b[39m %690 = Base.slt_int(%689, 0)\u001b[36m::Bool\u001b[39m\n",
       "\u001b[90m│    \u001b[39m %691 = Base.ifelse(%690, 0, %689)\u001b[36m::Int64\u001b[39m\n",
       "\u001b[90m│    \u001b[39m %692 = Base.sub_int(%691, 0)\u001b[36m::Int64\u001b[39m\n",
       "\u001b[90m│    \u001b[39m %693 = Base.mul_int(1, %692)\u001b[36m::Int64\u001b[39m\n",
       "\u001b[90m│    \u001b[39m %694 = Base.sub_int(%660, 1)\u001b[36m::Int64\u001b[39m\n",
       "\u001b[90m│    \u001b[39m %695 = Base.mul_int(%694, 1)\u001b[36m::Int64\u001b[39m\n",
       "\u001b[90m│    \u001b[39m %696 = Base.add_int(1, %695)\u001b[36m::Int64\u001b[39m\n",
       "\u001b[90m│    \u001b[39m %697 = Base.sub_int(%661, 1)\u001b[36m::Int64\u001b[39m\n",
       "\u001b[90m│    \u001b[39m %698 = Base.mul_int(%697, %693)\u001b[36m::Int64\u001b[39m\n",
       "\u001b[90m│    \u001b[39m %699 = Base.add_int(%696, %698)\u001b[36m::Int64\u001b[39m\n",
       "\u001b[90m└────\u001b[39m        goto #202 if not false\n",
       "\u001b[90m197 ─\u001b[39m %701 = Core.tuple(%699)\u001b[36m::Tuple{Int64}\u001b[39m\n",
       "\u001b[90m│    \u001b[39m %702 = Base.getfield(%662, :dims)\u001b[36m::Tuple{Int64, Int64}\u001b[39m\n",
       "\u001b[90m│    \u001b[39m %703 = Core.getfield(%702, 1)\u001b[36m::Int64\u001b[39m\n",
       "\u001b[90m│    \u001b[39m %704 = Core.getfield(%702, 2)\u001b[36m::Int64\u001b[39m\n",
       "\u001b[90m│    \u001b[39m %705 = Base.mul_int(%703, %704)\u001b[36m::Int64\u001b[39m\n",
       "\u001b[90m│    \u001b[39m %706 = Base.slt_int(%705, 0)\u001b[36m::Bool\u001b[39m\n",
       "\u001b[90m│    \u001b[39m %707 = Base.ifelse(%706, 0, %705)\u001b[36m::Int64\u001b[39m\n",
       "\u001b[90m│    \u001b[39m %708 = Base.sle_int(1, %699)\u001b[36m::Bool\u001b[39m\n",
       "\u001b[90m│    \u001b[39m %709 = Base.sle_int(%699, %707)\u001b[36m::Bool\u001b[39m\n",
       "\u001b[90m│    \u001b[39m %710 = Base.and_int(%708, %709)\u001b[36m::Bool\u001b[39m\n",
       "\u001b[90m└────\u001b[39m        goto #199 if not %710\n",
       "\u001b[90m198 ─\u001b[39m        goto #201\n",
       "\u001b[90m199 ─\u001b[39m %713 = Base.throw_boundserror\u001b[36m::typeof(Base.throw_boundserror)\u001b[39m\n",
       "\u001b[90m│    \u001b[39m        invoke %713(%662::CuDeviceMatrix{Float64, 1}, %701::Tuple{Int64})\u001b[90m::Union{}\u001b[39m\n",
       "\u001b[90m└────\u001b[39m        unreachable\n",
       "\u001b[90m200 ─\u001b[39m        φ ()\u001b[90m::Union{}\u001b[39m\n",
       "\u001b[90m└────\u001b[39m        unreachable\n",
       "\u001b[90m201 ─\u001b[39m        nothing\u001b[90m::Nothing\u001b[39m\n",
       "\u001b[90m202 ┄\u001b[39m %719 = Base.getfield(%662, :ptr)\u001b[36m::Core.LLVMPtr{Float64, 1}\u001b[39m\n",
       "\u001b[90m│    \u001b[39m %720 = Core.tuple(\"; ModuleID = 'llvmcall'\\nsource_filename = \\\"llvmcall\\\"\\n\\n; Function Attrs: alwaysinline\\ndefine double @entry(i8 addrspace(1)* %0, i64 %1) #0 {\\nentry:\\n  %2 = bitcast i8 addrspace(1)* %0 to double addrspace(1)*\\n  %3 = getelementptr inbounds double, double addrspace(1)* %2, i64 %1\\n  %4 = load double, double addrspace(1)* %3, align 8, !tbaa !0\\n  ret double %4\\n}\\n\\nattributes #0 = { alwaysinline }\\n\\n!0 = !{!1, !1, i64 0, i64 0}\\n!1 = !{!\\\"custom_tbaa_addrspace(1)\\\", !2, i64 0}\\n!2 = !{!\\\"custom_tbaa\\\"}\\n\", \"entry\")\u001b[36m::Tuple{String, String}\u001b[39m\n",
       "\u001b[90m│    \u001b[39m %721 = Base.sub_int(%699, 1)\u001b[36m::Int64\u001b[39m\n",
       "\u001b[90m│    \u001b[39m %722 = Base.llvmcall(%720, Float64, Tuple{Core.LLVMPtr{Float64, 1}, Int64}, %719, %721)\u001b[36m::Float64\u001b[39m\n",
       "\u001b[90m└────\u001b[39m        goto #203\n",
       "\u001b[90m203 ─\u001b[39m        goto #204\n",
       "\u001b[90m204 ─\u001b[39m        goto #205\n",
       "\u001b[90m205 ─\u001b[39m        goto #206\n",
       "\u001b[90m206 ─\u001b[39m        goto #207\n",
       "\u001b[90m207 ─\u001b[39m %728 = Base.add_int(%310, 1)\u001b[36m::Int64\u001b[39m\n",
       "\u001b[90m└────\u001b[39m        goto #213 if not false\n",
       "\u001b[90m208 ─\u001b[39m %730 = Core.tuple(%307, %728)\u001b[36m::Tuple{Int64, Int64}\u001b[39m\n",
       "\u001b[90m│    \u001b[39m %731 = Base.getfield(%2, :parent)\u001b[36m::CuDeviceMatrix{Float64, 1}\u001b[39m\n",
       "\u001b[90m│    \u001b[39m %732 = Base.getfield(%731, :dims)\u001b[36m::Tuple{Int64, Int64}\u001b[39m\n",
       "\u001b[90m│    \u001b[39m %733 = Base.getfield(%732, 1, true)\u001b[36m::Int64\u001b[39m\n",
       "\u001b[90m│    \u001b[39m %734 = Base.slt_int(%733, 0)\u001b[36m::Bool\u001b[39m\n",
       "\u001b[90m│    \u001b[39m %735 = Base.ifelse(%734, 0, %733)\u001b[36m::Int64\u001b[39m\n",
       "\u001b[90m│    \u001b[39m %736 = Base.getfield(%732, 2, true)\u001b[36m::Int64\u001b[39m\n",
       "\u001b[90m│    \u001b[39m %737 = Base.slt_int(%736, 0)\u001b[36m::Bool\u001b[39m\n",
       "\u001b[90m│    \u001b[39m %738 = Base.ifelse(%737, 0, %736)\u001b[36m::Int64\u001b[39m\n",
       "\u001b[90m│    \u001b[39m %739 = Base.getfield(%2, :offsets)\u001b[36m::Tuple{Int64, Int64}\u001b[39m\n",
       "\u001b[90m│    \u001b[39m %740 = Base.getfield(%739, 1, true)\u001b[36m::Int64\u001b[39m\n",
       "\u001b[90m│    \u001b[39m %741 = Base.getfield(%739, 2, true)\u001b[36m::Int64\u001b[39m\n",
       "\u001b[90m│    \u001b[39m %742 = Base.sub_int(%307, %740)\u001b[36m::Int64\u001b[39m\n",
       "\u001b[90m│    \u001b[39m %743 = Base.sle_int(1, %742)\u001b[36m::Bool\u001b[39m\n",
       "\u001b[90m│    \u001b[39m %744 = Base.sle_int(%742, %735)\u001b[36m::Bool\u001b[39m\n",
       "\u001b[90m│    \u001b[39m %745 = Base.and_int(%743, %744)\u001b[36m::Bool\u001b[39m\n",
       "\u001b[90m│    \u001b[39m %746 = Base.sub_int(%728, %741)\u001b[36m::Int64\u001b[39m\n",
       "\u001b[90m│    \u001b[39m %747 = Base.sle_int(1, %746)\u001b[36m::Bool\u001b[39m\n",
       "\u001b[90m│    \u001b[39m %748 = Base.sle_int(%746, %738)\u001b[36m::Bool\u001b[39m\n",
       "\u001b[90m│    \u001b[39m %749 = Base.and_int(%747, %748)\u001b[36m::Bool\u001b[39m\n",
       "\u001b[90m│    \u001b[39m %750 = Base.and_int(%749, true)\u001b[36m::Bool\u001b[39m\n",
       "\u001b[90m│    \u001b[39m %751 = Base.and_int(%745, %750)\u001b[36m::Bool\u001b[39m\n",
       "\u001b[90m└────\u001b[39m        goto #210 if not %751\n",
       "\u001b[90m209 ─\u001b[39m        goto #212\n",
       "\u001b[90m210 ─\u001b[39m %754 = Base.throw_boundserror\u001b[36m::typeof(Base.throw_boundserror)\u001b[39m\n",
       "\u001b[90m│    \u001b[39m        invoke %754(%2::OffsetMatrix{Float64, CuDeviceMatrix{Float64, 1}}, %730::Tuple{Int64, Int64})\u001b[90m::Union{}\u001b[39m\n",
       "\u001b[90m└────\u001b[39m        unreachable\n",
       "\u001b[90m211 ─\u001b[39m        φ ()\u001b[90m::Union{}\u001b[39m\n",
       "\u001b[90m└────\u001b[39m        unreachable\n",
       "\u001b[90m212 ─\u001b[39m        nothing\u001b[90m::Nothing\u001b[39m\n",
       "\u001b[90m213 ┄\u001b[39m %760 = Base.getfield(%2, :offsets)\u001b[36m::Tuple{Int64, Int64}\u001b[39m\n",
       "\u001b[90m│    \u001b[39m %761 = Base.getfield(%760, 1, true)\u001b[36m::Int64\u001b[39m\n",
       "\u001b[90m│    \u001b[39m %762 = Base.getfield(%760, 2, true)\u001b[36m::Int64\u001b[39m\n",
       "\u001b[90m│    \u001b[39m %763 = Base.sub_int(%307, %761)\u001b[36m::Int64\u001b[39m\n",
       "\u001b[90m│    \u001b[39m %764 = Base.sub_int(%728, %762)\u001b[36m::Int64\u001b[39m\n",
       "\u001b[90m│    \u001b[39m %765 = Base.getfield(%2, :parent)\u001b[36m::CuDeviceMatrix{Float64, 1}\u001b[39m\n",
       "\u001b[90m└────\u001b[39m        goto #219 if not false\n",
       "\u001b[90m214 ─\u001b[39m %767 = Core.tuple(%763, %764)\u001b[36m::Tuple{Int64, Int64}\u001b[39m\n",
       "\u001b[90m│    \u001b[39m %768 = Base.getfield(%765, :dims)\u001b[36m::Tuple{Int64, Int64}\u001b[39m\n",
       "\u001b[90m│    \u001b[39m %769 = Base.getfield(%768, 1, true)\u001b[36m::Int64\u001b[39m\n",
       "\u001b[90m│    \u001b[39m %770 = Base.slt_int(%769, 0)\u001b[36m::Bool\u001b[39m\n",
       "\u001b[90m│    \u001b[39m %771 = Base.ifelse(%770, 0, %769)\u001b[36m::Int64\u001b[39m\n",
       "\u001b[90m│    \u001b[39m %772 = Base.getfield(%768, 2, true)\u001b[36m::Int64\u001b[39m\n",
       "\u001b[90m│    \u001b[39m %773 = Base.slt_int(%772, 0)\u001b[36m::Bool\u001b[39m\n",
       "\u001b[90m│    \u001b[39m %774 = Base.ifelse(%773, 0, %772)\u001b[36m::Int64\u001b[39m\n",
       "\u001b[90m│    \u001b[39m %775 = Base.sle_int(1, %763)\u001b[36m::Bool\u001b[39m\n",
       "\u001b[90m│    \u001b[39m %776 = Base.sle_int(%763, %771)\u001b[36m::Bool\u001b[39m\n",
       "\u001b[90m│    \u001b[39m %777 = Base.and_int(%775, %776)\u001b[36m::Bool\u001b[39m\n",
       "\u001b[90m│    \u001b[39m %778 = Base.sle_int(1, %764)\u001b[36m::Bool\u001b[39m\n",
       "\u001b[90m│    \u001b[39m %779 = Base.sle_int(%764, %774)\u001b[36m::Bool\u001b[39m\n",
       "\u001b[90m│    \u001b[39m %780 = Base.and_int(%778, %779)\u001b[36m::Bool\u001b[39m\n",
       "\u001b[90m│    \u001b[39m %781 = Base.and_int(%780, true)\u001b[36m::Bool\u001b[39m\n",
       "\u001b[90m│    \u001b[39m %782 = Base.and_int(%777, %781)\u001b[36m::Bool\u001b[39m\n",
       "\u001b[90m└────\u001b[39m        goto #216 if not %782\n",
       "\u001b[90m215 ─\u001b[39m        goto #218\n",
       "\u001b[90m216 ─\u001b[39m %785 = Base.throw_boundserror\u001b[36m::typeof(Base.throw_boundserror)\u001b[39m\n",
       "\u001b[90m│    \u001b[39m        invoke %785(%765::CuDeviceMatrix{Float64, 1}, %767::Tuple{Int64, Int64})\u001b[90m::Union{}\u001b[39m\n",
       "\u001b[90m└────\u001b[39m        unreachable\n",
       "\u001b[90m217 ─\u001b[39m        φ ()\u001b[90m::Union{}\u001b[39m\n",
       "\u001b[90m└────\u001b[39m        unreachable\n",
       "\u001b[90m218 ─\u001b[39m        nothing\u001b[90m::Nothing\u001b[39m\n",
       "\u001b[90m219 ┄\u001b[39m %791 = Base.getfield(%765, :dims)\u001b[36m::Tuple{Int64, Int64}\u001b[39m\n",
       "\u001b[90m│    \u001b[39m %792 = Base.getfield(%791, 1, true)\u001b[36m::Int64\u001b[39m\n",
       "\u001b[90m│    \u001b[39m %793 = Base.slt_int(%792, 0)\u001b[36m::Bool\u001b[39m\n",
       "\u001b[90m│    \u001b[39m %794 = Base.ifelse(%793, 0, %792)\u001b[36m::Int64\u001b[39m\n",
       "\u001b[90m│    \u001b[39m %795 = Base.sub_int(%794, 0)\u001b[36m::Int64\u001b[39m\n",
       "\u001b[90m│    \u001b[39m %796 = Base.mul_int(1, %795)\u001b[36m::Int64\u001b[39m\n",
       "\u001b[90m│    \u001b[39m %797 = Base.sub_int(%763, 1)\u001b[36m::Int64\u001b[39m\n",
       "\u001b[90m│    \u001b[39m %798 = Base.mul_int(%797, 1)\u001b[36m::Int64\u001b[39m\n",
       "\u001b[90m│    \u001b[39m %799 = Base.add_int(1, %798)\u001b[36m::Int64\u001b[39m\n",
       "\u001b[90m│    \u001b[39m %800 = Base.sub_int(%764, 1)\u001b[36m::Int64\u001b[39m\n",
       "\u001b[90m│    \u001b[39m %801 = Base.mul_int(%800, %796)\u001b[36m::Int64\u001b[39m\n",
       "\u001b[90m│    \u001b[39m %802 = Base.add_int(%799, %801)\u001b[36m::Int64\u001b[39m\n",
       "\u001b[90m└────\u001b[39m        goto #225 if not false\n",
       "\u001b[90m220 ─\u001b[39m %804 = Core.tuple(%802)\u001b[36m::Tuple{Int64}\u001b[39m\n",
       "\u001b[90m│    \u001b[39m %805 = Base.getfield(%765, :dims)\u001b[36m::Tuple{Int64, Int64}\u001b[39m\n",
       "\u001b[90m│    \u001b[39m %806 = Core.getfield(%805, 1)\u001b[36m::Int64\u001b[39m\n",
       "\u001b[90m│    \u001b[39m %807 = Core.getfield(%805, 2)\u001b[36m::Int64\u001b[39m\n",
       "\u001b[90m│    \u001b[39m %808 = Base.mul_int(%806, %807)\u001b[36m::Int64\u001b[39m\n",
       "\u001b[90m│    \u001b[39m %809 = Base.slt_int(%808, 0)\u001b[36m::Bool\u001b[39m\n",
       "\u001b[90m│    \u001b[39m %810 = Base.ifelse(%809, 0, %808)\u001b[36m::Int64\u001b[39m\n",
       "\u001b[90m│    \u001b[39m %811 = Base.sle_int(1, %802)\u001b[36m::Bool\u001b[39m\n",
       "\u001b[90m│    \u001b[39m %812 = Base.sle_int(%802, %810)\u001b[36m::Bool\u001b[39m\n",
       "\u001b[90m│    \u001b[39m %813 = Base.and_int(%811, %812)\u001b[36m::Bool\u001b[39m\n",
       "\u001b[90m└────\u001b[39m        goto #222 if not %813\n",
       "\u001b[90m221 ─\u001b[39m        goto #224\n",
       "\u001b[90m222 ─\u001b[39m %816 = Base.throw_boundserror\u001b[36m::typeof(Base.throw_boundserror)\u001b[39m\n",
       "\u001b[90m│    \u001b[39m        invoke %816(%765::CuDeviceMatrix{Float64, 1}, %804::Tuple{Int64})\u001b[90m::Union{}\u001b[39m\n",
       "\u001b[90m└────\u001b[39m        unreachable\n",
       "\u001b[90m223 ─\u001b[39m        φ ()\u001b[90m::Union{}\u001b[39m\n",
       "\u001b[90m└────\u001b[39m        unreachable\n",
       "\u001b[90m224 ─\u001b[39m        nothing\u001b[90m::Nothing\u001b[39m\n",
       "\u001b[90m225 ┄\u001b[39m %822 = Base.getfield(%765, :ptr)\u001b[36m::Core.LLVMPtr{Float64, 1}\u001b[39m\n",
       "\u001b[90m│    \u001b[39m %823 = Core.tuple(\"; ModuleID = 'llvmcall'\\nsource_filename = \\\"llvmcall\\\"\\n\\n; Function Attrs: alwaysinline\\ndefine double @entry(i8 addrspace(1)* %0, i64 %1) #0 {\\nentry:\\n  %2 = bitcast i8 addrspace(1)* %0 to double addrspace(1)*\\n  %3 = getelementptr inbounds double, double addrspace(1)* %2, i64 %1\\n  %4 = load double, double addrspace(1)* %3, align 8, !tbaa !0\\n  ret double %4\\n}\\n\\nattributes #0 = { alwaysinline }\\n\\n!0 = !{!1, !1, i64 0, i64 0}\\n!1 = !{!\\\"custom_tbaa_addrspace(1)\\\", !2, i64 0}\\n!2 = !{!\\\"custom_tbaa\\\"}\\n\", \"entry\")\u001b[36m::Tuple{String, String}\u001b[39m\n",
       "\u001b[90m│    \u001b[39m %824 = Base.sub_int(%802, 1)\u001b[36m::Int64\u001b[39m\n",
       "\u001b[90m│    \u001b[39m %825 = Base.llvmcall(%823, Float64, Tuple{Core.LLVMPtr{Float64, 1}, Int64}, %822, %824)\u001b[36m::Float64\u001b[39m\n",
       "\u001b[90m└────\u001b[39m        goto #226\n",
       "\u001b[90m226 ─\u001b[39m        goto #227\n",
       "\u001b[90m227 ─\u001b[39m        goto #228\n",
       "\u001b[90m228 ─\u001b[39m        goto #229\n",
       "\u001b[90m229 ─\u001b[39m        goto #230\n",
       "\u001b[90m230 ─\u001b[39m %831 = Base.llvmcall\u001b[36m::Core.IntrinsicFunction\u001b[39m\n",
       "\u001b[90m│    \u001b[39m %832 = (%831)(\"    %x = fmul contract double %0, %1\\n    ret double %x\\n\", Float64, Tuple{Float64, Float64}, 2.0, %413)\u001b[36m::Float64\u001b[39m\n",
       "\u001b[90m│    \u001b[39m %833 = Base.llvmcall\u001b[36m::Core.IntrinsicFunction\u001b[39m\n",
       "\u001b[90m│    \u001b[39m %834 = (%833)(\"    %x = fsub contract double %0, %1\\n    ret double %x\\n\", Float64, Tuple{Float64, Float64}, %516, %832)\u001b[36m::Float64\u001b[39m\n",
       "\u001b[90m│    \u001b[39m %835 = Base.llvmcall\u001b[36m::Core.IntrinsicFunction\u001b[39m\n",
       "\u001b[90m│    \u001b[39m %836 = (%835)(\"    %x = fadd contract double %0, %1\\n    ret double %x\\n\", Float64, Tuple{Float64, Float64}, %834, %722)\u001b[36m::Float64\u001b[39m\n",
       "\u001b[90m│    \u001b[39m %837 = Base.mul_float(%5, %5)\u001b[36m::Float64\u001b[39m\n",
       "\u001b[90m│    \u001b[39m %838 = Base.div_float(%836, %837)\u001b[36m::Float64\u001b[39m\n",
       "\u001b[90m│    \u001b[39m %839 = Base.llvmcall\u001b[36m::Core.IntrinsicFunction\u001b[39m\n",
       "\u001b[90m│    \u001b[39m %840 = (%839)(\"    %x = fmul contract double %0, %1\\n    ret double %x\\n\", Float64, Tuple{Float64, Float64}, 2.0, %413)\u001b[36m::Float64\u001b[39m\n",
       "\u001b[90m│    \u001b[39m %841 = Base.llvmcall\u001b[36m::Core.IntrinsicFunction\u001b[39m\n",
       "\u001b[90m│    \u001b[39m %842 = (%841)(\"    %x = fsub contract double %0, %1\\n    ret double %x\\n\", Float64, Tuple{Float64, Float64}, %619, %840)\u001b[36m::Float64\u001b[39m\n",
       "\u001b[90m│    \u001b[39m %843 = Base.llvmcall\u001b[36m::Core.IntrinsicFunction\u001b[39m\n",
       "\u001b[90m│    \u001b[39m %844 = (%843)(\"    %x = fadd contract double %0, %1\\n    ret double %x\\n\", Float64, Tuple{Float64, Float64}, %842, %825)\u001b[36m::Float64\u001b[39m\n",
       "\u001b[90m│    \u001b[39m %845 = Base.mul_float(%6, %6)\u001b[36m::Float64\u001b[39m\n",
       "\u001b[90m│    \u001b[39m %846 = Base.div_float(%844, %845)\u001b[36m::Float64\u001b[39m\n",
       "\u001b[90m│    \u001b[39m %847 = Base.llvmcall\u001b[36m::Core.IntrinsicFunction\u001b[39m\n",
       "\u001b[90m│    \u001b[39m %848 = (%847)(\"    %x = fadd contract double %0, %1\\n    ret double %x\\n\", Float64, Tuple{Float64, Float64}, %838, %846)\u001b[36m::Float64\u001b[39m\n",
       "\u001b[90m│    \u001b[39m %849 = Base.llvmcall\u001b[36m::Core.IntrinsicFunction\u001b[39m\n",
       "\u001b[90m│    \u001b[39m %850 = (%849)(\"    %x = fmul contract double %0, %1\\n    ret double %x\\n\", Float64, Tuple{Float64, Float64}, %3, %4)\u001b[36m::Float64\u001b[39m\n",
       "\u001b[90m│    \u001b[39m %851 = Base.llvmcall\u001b[36m::Core.IntrinsicFunction\u001b[39m\n",
       "\u001b[90m│    \u001b[39m %852 = (%851)(\"    %x = fmul contract double %0, %1\\n    ret double %x\\n\", Float64, Tuple{Float64, Float64}, %850, %848)\u001b[36m::Float64\u001b[39m\n",
       "\u001b[90m│    \u001b[39m %853 = Base.llvmcall\u001b[36m::Core.IntrinsicFunction\u001b[39m\n",
       "\u001b[90m│    \u001b[39m %854 = (%853)(\"    %x = fadd contract double %0, %1\\n    ret double %x\\n\", Float64, Tuple{Float64, Float64}, %413, %852)\u001b[36m::Float64\u001b[39m\n",
       "\u001b[90m└────\u001b[39m        goto #236 if not false\n",
       "\u001b[90m231 ─\u001b[39m %856 = Core.tuple(%307, %310)\u001b[36m::Tuple{Int64, Int64}\u001b[39m\n",
       "\u001b[90m│    \u001b[39m %857 = Base.getfield(%2, :parent)\u001b[36m::CuDeviceMatrix{Float64, 1}\u001b[39m\n",
       "\u001b[90m│    \u001b[39m %858 = Base.getfield(%857, :dims)\u001b[36m::Tuple{Int64, Int64}\u001b[39m\n",
       "\u001b[90m│    \u001b[39m %859 = Base.getfield(%858, 1, true)\u001b[36m::Int64\u001b[39m\n",
       "\u001b[90m│    \u001b[39m %860 = Base.slt_int(%859, 0)\u001b[36m::Bool\u001b[39m\n",
       "\u001b[90m│    \u001b[39m %861 = Base.ifelse(%860, 0, %859)\u001b[36m::Int64\u001b[39m\n",
       "\u001b[90m│    \u001b[39m %862 = Base.getfield(%858, 2, true)\u001b[36m::Int64\u001b[39m\n",
       "\u001b[90m│    \u001b[39m %863 = Base.slt_int(%862, 0)\u001b[36m::Bool\u001b[39m\n",
       "\u001b[90m│    \u001b[39m %864 = Base.ifelse(%863, 0, %862)\u001b[36m::Int64\u001b[39m\n",
       "\u001b[90m│    \u001b[39m %865 = Base.getfield(%2, :offsets)\u001b[36m::Tuple{Int64, Int64}\u001b[39m\n",
       "\u001b[90m│    \u001b[39m %866 = Base.getfield(%865, 1, true)\u001b[36m::Int64\u001b[39m\n",
       "\u001b[90m│    \u001b[39m %867 = Base.getfield(%865, 2, true)\u001b[36m::Int64\u001b[39m\n",
       "\u001b[90m│    \u001b[39m %868 = Base.sub_int(%307, %866)\u001b[36m::Int64\u001b[39m\n",
       "\u001b[90m│    \u001b[39m %869 = Base.sle_int(1, %868)\u001b[36m::Bool\u001b[39m\n",
       "\u001b[90m│    \u001b[39m %870 = Base.sle_int(%868, %861)\u001b[36m::Bool\u001b[39m\n",
       "\u001b[90m│    \u001b[39m %871 = Base.and_int(%869, %870)\u001b[36m::Bool\u001b[39m\n",
       "\u001b[90m│    \u001b[39m %872 = Base.sub_int(%310, %867)\u001b[36m::Int64\u001b[39m\n",
       "\u001b[90m│    \u001b[39m %873 = Base.sle_int(1, %872)\u001b[36m::Bool\u001b[39m\n",
       "\u001b[90m│    \u001b[39m %874 = Base.sle_int(%872, %864)\u001b[36m::Bool\u001b[39m\n",
       "\u001b[90m│    \u001b[39m %875 = Base.and_int(%873, %874)\u001b[36m::Bool\u001b[39m\n",
       "\u001b[90m│    \u001b[39m %876 = Base.and_int(%875, true)\u001b[36m::Bool\u001b[39m\n",
       "\u001b[90m│    \u001b[39m %877 = Base.and_int(%871, %876)\u001b[36m::Bool\u001b[39m\n",
       "\u001b[90m└────\u001b[39m        goto #233 if not %877\n",
       "\u001b[90m232 ─\u001b[39m        goto #235\n",
       "\u001b[90m233 ─\u001b[39m %880 = Base.throw_boundserror\u001b[36m::typeof(Base.throw_boundserror)\u001b[39m\n",
       "\u001b[90m│    \u001b[39m        invoke %880(%2::OffsetMatrix{Float64, CuDeviceMatrix{Float64, 1}}, %856::Tuple{Int64, Int64})\u001b[90m::Union{}\u001b[39m\n",
       "\u001b[90m└────\u001b[39m        unreachable\n",
       "\u001b[90m234 ─\u001b[39m        φ ()\u001b[90m::Union{}\u001b[39m\n",
       "\u001b[90m└────\u001b[39m        unreachable\n",
       "\u001b[90m235 ─\u001b[39m        nothing\u001b[90m::Nothing\u001b[39m\n",
       "\u001b[90m236 ┄\u001b[39m %886 = Base.getfield(%2, :offsets)\u001b[36m::Tuple{Int64, Int64}\u001b[39m\n",
       "\u001b[90m│    \u001b[39m %887 = Base.getfield(%886, 1, true)\u001b[36m::Int64\u001b[39m\n",
       "\u001b[90m│    \u001b[39m %888 = Base.getfield(%886, 2, true)\u001b[36m::Int64\u001b[39m\n",
       "\u001b[90m│    \u001b[39m %889 = Base.sub_int(%307, %887)\u001b[36m::Int64\u001b[39m\n",
       "\u001b[90m│    \u001b[39m %890 = Base.sub_int(%310, %888)\u001b[36m::Int64\u001b[39m\n",
       "\u001b[90m│    \u001b[39m %891 = Base.getfield(%2, :parent)\u001b[36m::CuDeviceMatrix{Float64, 1}\u001b[39m\n",
       "\u001b[90m└────\u001b[39m        goto #242 if not false\n",
       "\u001b[90m237 ─\u001b[39m %893 = Core.tuple(%889, %890)\u001b[36m::Tuple{Int64, Int64}\u001b[39m\n",
       "\u001b[90m│    \u001b[39m %894 = Base.getfield(%891, :dims)\u001b[36m::Tuple{Int64, Int64}\u001b[39m\n",
       "\u001b[90m│    \u001b[39m %895 = Base.getfield(%894, 1, true)\u001b[36m::Int64\u001b[39m\n",
       "\u001b[90m│    \u001b[39m %896 = Base.slt_int(%895, 0)\u001b[36m::Bool\u001b[39m\n",
       "\u001b[90m│    \u001b[39m %897 = Base.ifelse(%896, 0, %895)\u001b[36m::Int64\u001b[39m\n",
       "\u001b[90m│    \u001b[39m %898 = Base.getfield(%894, 2, true)\u001b[36m::Int64\u001b[39m\n",
       "\u001b[90m│    \u001b[39m %899 = Base.slt_int(%898, 0)\u001b[36m::Bool\u001b[39m\n",
       "\u001b[90m│    \u001b[39m %900 = Base.ifelse(%899, 0, %898)\u001b[36m::Int64\u001b[39m\n",
       "\u001b[90m│    \u001b[39m %901 = Base.sle_int(1, %889)\u001b[36m::Bool\u001b[39m\n",
       "\u001b[90m│    \u001b[39m %902 = Base.sle_int(%889, %897)\u001b[36m::Bool\u001b[39m\n",
       "\u001b[90m│    \u001b[39m %903 = Base.and_int(%901, %902)\u001b[36m::Bool\u001b[39m\n",
       "\u001b[90m│    \u001b[39m %904 = Base.sle_int(1, %890)\u001b[36m::Bool\u001b[39m\n",
       "\u001b[90m│    \u001b[39m %905 = Base.sle_int(%890, %900)\u001b[36m::Bool\u001b[39m\n",
       "\u001b[90m│    \u001b[39m %906 = Base.and_int(%904, %905)\u001b[36m::Bool\u001b[39m\n",
       "\u001b[90m│    \u001b[39m %907 = Base.and_int(%906, true)\u001b[36m::Bool\u001b[39m\n",
       "\u001b[90m│    \u001b[39m %908 = Base.and_int(%903, %907)\u001b[36m::Bool\u001b[39m\n",
       "\u001b[90m└────\u001b[39m        goto #239 if not %908\n",
       "\u001b[90m238 ─\u001b[39m        goto #241\n",
       "\u001b[90m239 ─\u001b[39m %911 = Base.throw_boundserror\u001b[36m::typeof(Base.throw_boundserror)\u001b[39m\n",
       "\u001b[90m│    \u001b[39m        invoke %911(%891::CuDeviceMatrix{Float64, 1}, %893::Tuple{Int64, Int64})\u001b[90m::Union{}\u001b[39m\n",
       "\u001b[90m└────\u001b[39m        unreachable\n",
       "\u001b[90m240 ─\u001b[39m        φ ()\u001b[90m::Union{}\u001b[39m\n",
       "\u001b[90m└────\u001b[39m        unreachable\n",
       "\u001b[90m241 ─\u001b[39m        nothing\u001b[90m::Nothing\u001b[39m\n",
       "\u001b[90m242 ┄\u001b[39m %917 = Base.getfield(%891, :dims)\u001b[36m::Tuple{Int64, Int64}\u001b[39m\n",
       "\u001b[90m│    \u001b[39m %918 = Base.getfield(%917, 1, true)\u001b[36m::Int64\u001b[39m\n",
       "\u001b[90m│    \u001b[39m %919 = Base.slt_int(%918, 0)\u001b[36m::Bool\u001b[39m\n",
       "\u001b[90m│    \u001b[39m %920 = Base.ifelse(%919, 0, %918)\u001b[36m::Int64\u001b[39m\n",
       "\u001b[90m│    \u001b[39m %921 = Base.sub_int(%920, 0)\u001b[36m::Int64\u001b[39m\n",
       "\u001b[90m│    \u001b[39m %922 = Base.mul_int(1, %921)\u001b[36m::Int64\u001b[39m\n",
       "\u001b[90m│    \u001b[39m %923 = Base.sub_int(%889, 1)\u001b[36m::Int64\u001b[39m\n",
       "\u001b[90m│    \u001b[39m %924 = Base.mul_int(%923, 1)\u001b[36m::Int64\u001b[39m\n",
       "\u001b[90m│    \u001b[39m %925 = Base.add_int(1, %924)\u001b[36m::Int64\u001b[39m\n",
       "\u001b[90m│    \u001b[39m %926 = Base.sub_int(%890, 1)\u001b[36m::Int64\u001b[39m\n",
       "\u001b[90m│    \u001b[39m %927 = Base.mul_int(%926, %922)\u001b[36m::Int64\u001b[39m\n",
       "\u001b[90m│    \u001b[39m %928 = Base.add_int(%925, %927)\u001b[36m::Int64\u001b[39m\n",
       "\u001b[90m└────\u001b[39m        goto #248 if not false\n",
       "\u001b[90m243 ─\u001b[39m %930 = Core.tuple(%928)\u001b[36m::Tuple{Int64}\u001b[39m\n",
       "\u001b[90m│    \u001b[39m %931 = Base.getfield(%891, :dims)\u001b[36m::Tuple{Int64, Int64}\u001b[39m\n",
       "\u001b[90m│    \u001b[39m %932 = Core.getfield(%931, 1)\u001b[36m::Int64\u001b[39m\n",
       "\u001b[90m│    \u001b[39m %933 = Core.getfield(%931, 2)\u001b[36m::Int64\u001b[39m\n",
       "\u001b[90m│    \u001b[39m %934 = Base.mul_int(%932, %933)\u001b[36m::Int64\u001b[39m\n",
       "\u001b[90m│    \u001b[39m %935 = Base.slt_int(%934, 0)\u001b[36m::Bool\u001b[39m\n",
       "\u001b[90m│    \u001b[39m %936 = Base.ifelse(%935, 0, %934)\u001b[36m::Int64\u001b[39m\n",
       "\u001b[90m│    \u001b[39m %937 = Base.sle_int(1, %928)\u001b[36m::Bool\u001b[39m\n",
       "\u001b[90m│    \u001b[39m %938 = Base.sle_int(%928, %936)\u001b[36m::Bool\u001b[39m\n",
       "\u001b[90m│    \u001b[39m %939 = Base.and_int(%937, %938)\u001b[36m::Bool\u001b[39m\n",
       "\u001b[90m└────\u001b[39m        goto #245 if not %939\n",
       "\u001b[90m244 ─\u001b[39m        goto #247\n",
       "\u001b[90m245 ─\u001b[39m %942 = Base.throw_boundserror\u001b[36m::typeof(Base.throw_boundserror)\u001b[39m\n",
       "\u001b[90m│    \u001b[39m        invoke %942(%891::CuDeviceMatrix{Float64, 1}, %930::Tuple{Int64})\u001b[90m::Union{}\u001b[39m\n",
       "\u001b[90m└────\u001b[39m        unreachable\n",
       "\u001b[90m246 ─\u001b[39m        φ ()\u001b[90m::Union{}\u001b[39m\n",
       "\u001b[90m└────\u001b[39m        unreachable\n",
       "\u001b[90m247 ─\u001b[39m        nothing\u001b[90m::Nothing\u001b[39m\n",
       "\u001b[90m248 ┄\u001b[39m %948 = Base.getfield(%891, :ptr)\u001b[36m::Core.LLVMPtr{Float64, 1}\u001b[39m\n",
       "\u001b[90m│    \u001b[39m %949 = Core.tuple(\"; ModuleID = 'llvmcall'\\nsource_filename = \\\"llvmcall\\\"\\n\\n; Function Attrs: alwaysinline\\ndefine void @entry(i8 addrspace(1)* %0, double %1, i64 %2) #0 {\\nentry:\\n  %3 = bitcast i8 addrspace(1)* %0 to double addrspace(1)*\\n  %4 = getelementptr inbounds double, double addrspace(1)* %3, i64 %2\\n  store double %1, double addrspace(1)* %4, align 8, !tbaa !0\\n  ret void\\n}\\n\\nattributes #0 = { alwaysinline }\\n\\n!0 = !{!1, !1, i64 0, i64 0}\\n!1 = !{!\\\"custom_tbaa_addrspace(1)\\\", !2, i64 0}\\n!2 = !{!\\\"custom_tbaa\\\"}\\n\", \"entry\")\u001b[36m::Tuple{String, String}\u001b[39m\n",
       "\u001b[90m│    \u001b[39m %950 = Base.sub_int(%928, 1)\u001b[36m::Int64\u001b[39m\n",
       "\u001b[90m│    \u001b[39m        Base.llvmcall(%949, Nothing, Tuple{Core.LLVMPtr{Float64, 1}, Float64, Int64}, %948, %854, %950)\u001b[90m::Nothing\u001b[39m\n",
       "\u001b[90m└────\u001b[39m        goto #249\n",
       "\u001b[90m249 ─\u001b[39m        goto #250\n",
       "\u001b[90m250 ─\u001b[39m        goto #251\n",
       "\u001b[90m251 ─\u001b[39m        goto #252\n",
       "\u001b[90m252 ─\u001b[39m        goto #253\n",
       "\u001b[90m253 ─\u001b[39m        nothing\u001b[90m::Nothing\u001b[39m\n",
       "\u001b[90m254 ┄\u001b[39m        return Main.nothing\n",
       ") => Nothing"
      ]
     },
     "execution_count": 28,
     "metadata": {},
     "output_type": "execute_result"
    }
   ],
   "source": [
    "@ka_code_typed diffusion_lmem_kernel(out, domain, a, dt, dx, dy, ndrange=(N, N))"
   ]
  },
  {
   "cell_type": "code",
   "execution_count": 29,
   "metadata": {},
   "outputs": [
    {
     "ename": "LoadError",
     "evalue": "@ka_code_llvm does not support GPU kernels",
     "output_type": "error",
     "traceback": [
      "@ka_code_llvm does not support GPU kernels",
      "",
      "Stacktrace:",
      " [1] error(s::String)",
      "   @ Base ./error.jl:33",
      " [2] top-level scope",
      "   @ ~/.julia/packages/KernelAbstractions/8W8KX/src/reflection.jl:165",
      " [3] eval",
      "   @ ./boot.jl:360 [inlined]",
      " [4] include_string(mapexpr::typeof(REPL.softscope), mod::Module, code::String, filename::String)",
      "   @ Base ./loading.jl:1116"
     ]
    }
   ],
   "source": [
    "@ka_code_llvm diffusion_lmem_kernel(out, domain, a, dt, dx, dy, ndrange=(N, N))"
   ]
  }
 ],
 "metadata": {
  "kernelspec": {
   "display_name": "Julia 1.6.2 Threads 1.6.2",
   "language": "julia",
   "name": "julia-1.6.2-threads-1.6"
  },
  "language_info": {
   "file_extension": ".jl",
   "mimetype": "application/julia",
   "name": "julia",
   "version": "1.6.2"
  },
  "orig_nbformat": 4
 },
 "nbformat": 4,
 "nbformat_minor": 2
}